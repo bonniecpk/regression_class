{
 "cells": [
  {
   "cell_type": "markdown",
   "metadata": {},
   "source": [
    "# Regression Week 3: Assessing Fit (polynomial regression)"
   ]
  },
  {
   "cell_type": "markdown",
   "metadata": {},
   "source": [
    "In this notebook you will compare different regression models in order to assess which model fits best. We will be using polynomial regression as a means to examine this topic. In particular you will:\n",
    "* Write a function to take an SArray and a degree and return an SFrame where each column is the SArray to a polynomial value up to the total degree e.g. degree = 3 then column 1 is the SArray column 2 is the SArray squared and column 3 is the SArray cubed\n",
    "* Use matplotlib to visualize polynomial regressions\n",
    "* Use matplotlib to visualize the same polynomial degree on different subsets of the data\n",
    "* Use a validation set to select a polynomial degree\n",
    "* Assess the final fit using test data\n",
    "\n",
    "We will continue to use the House data from previous notebooks."
   ]
  },
  {
   "cell_type": "markdown",
   "metadata": {},
   "source": [
    "# Fire up graphlab create"
   ]
  },
  {
   "cell_type": "code",
   "execution_count": 11,
   "metadata": {
    "collapsed": true
   },
   "outputs": [],
   "source": [
    "import graphlab"
   ]
  },
  {
   "cell_type": "markdown",
   "metadata": {},
   "source": [
    "Next we're going to write a polynomial function that takes an SArray and a maximal degree and returns an SFrame with columns containing the SArray to all the powers up to the maximal degree.\n",
    "\n",
    "The easiest way to apply a power to an SArray is to use the .apply() and lambda x: functions. \n",
    "For example to take the example array and compute the third power we can do as follows: (note running this cell the first time may take longer than expected since it loads graphlab)"
   ]
  },
  {
   "cell_type": "code",
   "execution_count": 12,
   "metadata": {
    "collapsed": false
   },
   "outputs": [
    {
     "name": "stdout",
     "output_type": "stream",
     "text": [
      "[1.0, 2.0, 3.0]\n",
      "[1.0, 8.0, 27.0]\n"
     ]
    }
   ],
   "source": [
    "tmp = graphlab.SArray([1., 2., 3.])\n",
    "tmp_cubed = tmp.apply(lambda x: x**3)\n",
    "print tmp\n",
    "print tmp_cubed"
   ]
  },
  {
   "cell_type": "markdown",
   "metadata": {},
   "source": [
    "We can create an empty SFrame using graphlab.SFrame() and then add any columns to it with ex_sframe['column_name'] = value. For example we create an empty SFrame and make the column 'power_1' to be the first power of tmp (i.e. tmp itself)."
   ]
  },
  {
   "cell_type": "code",
   "execution_count": 13,
   "metadata": {
    "collapsed": false
   },
   "outputs": [
    {
     "name": "stdout",
     "output_type": "stream",
     "text": [
      "+---------+\n",
      "| power_1 |\n",
      "+---------+\n",
      "|   1.0   |\n",
      "|   2.0   |\n",
      "|   3.0   |\n",
      "+---------+\n",
      "[3 rows x 1 columns]\n",
      "\n"
     ]
    }
   ],
   "source": [
    "ex_sframe = graphlab.SFrame()\n",
    "ex_sframe['power_1'] = tmp\n",
    "print ex_sframe"
   ]
  },
  {
   "cell_type": "markdown",
   "metadata": {},
   "source": [
    "# Polynomial_sframe function"
   ]
  },
  {
   "cell_type": "markdown",
   "metadata": {},
   "source": [
    "Using the hints above complete the following function to create an SFrame consisting of the powers of an SArray up to a specific degree:"
   ]
  },
  {
   "cell_type": "code",
   "execution_count": 14,
   "metadata": {
    "collapsed": true
   },
   "outputs": [],
   "source": [
    "def polynomial_sframe(feature, degree):\n",
    "    # assume that degree >= 1\n",
    "    # initialize the SFrame:\n",
    "    poly_sframe = graphlab.SFrame()\n",
    "    # and set poly_sframe['power_1'] equal to the passed feature\n",
    "    poly_sframe['power_1'] = feature\n",
    "    # first check if degree > 1\n",
    "    if degree > 1:\n",
    "        # then loop over the remaining degrees:\n",
    "        # range usually starts at 0 and stops at the endpoint-1. We want it to start at 2 and stop at degree\n",
    "        for power in range(2, degree+1): \n",
    "            # first we'll give the column a name:\n",
    "            name = 'power_' + str(power)\n",
    "            # then assign poly_sframe[name] to the appropriate power of feature\n",
    "            poly_sframe[name] = feature.apply(lambda val: val**power)\n",
    "    return poly_sframe"
   ]
  },
  {
   "cell_type": "markdown",
   "metadata": {},
   "source": [
    "To test your function consider the smaller tmp variable and what you would expect the outcome of the following call:"
   ]
  },
  {
   "cell_type": "code",
   "execution_count": 15,
   "metadata": {
    "collapsed": false
   },
   "outputs": [
    {
     "name": "stdout",
     "output_type": "stream",
     "text": [
      "+---------+---------+---------+\n",
      "| power_1 | power_2 | power_3 |\n",
      "+---------+---------+---------+\n",
      "|   1.0   |   1.0   |   1.0   |\n",
      "|   2.0   |   4.0   |   8.0   |\n",
      "|   3.0   |   9.0   |   27.0  |\n",
      "+---------+---------+---------+\n",
      "[3 rows x 3 columns]\n",
      "\n"
     ]
    }
   ],
   "source": [
    "print polynomial_sframe(tmp, 3)"
   ]
  },
  {
   "cell_type": "markdown",
   "metadata": {},
   "source": [
    "# Visualizing polynomial regression"
   ]
  },
  {
   "cell_type": "markdown",
   "metadata": {},
   "source": [
    "Let's use matplotlib to visualize what a polynomial regression looks like on some real data."
   ]
  },
  {
   "cell_type": "code",
   "execution_count": 16,
   "metadata": {
    "collapsed": true
   },
   "outputs": [],
   "source": [
    "sales = graphlab.SFrame('kc_house_data.gl/')"
   ]
  },
  {
   "cell_type": "markdown",
   "metadata": {},
   "source": [
    "As in Week 3, we will use the sqft_living variable. For plotting purposes (connecting the dots), you'll need to sort by the values of sqft_living. For houses with identical square footage, we break the tie by their prices."
   ]
  },
  {
   "cell_type": "code",
   "execution_count": 17,
   "metadata": {
    "collapsed": false
   },
   "outputs": [],
   "source": [
    "sales = sales.sort(['sqft_living', 'price'])"
   ]
  },
  {
   "cell_type": "markdown",
   "metadata": {},
   "source": [
    "Let's start with a degree 1 polynomial using 'sqft_living' (i.e. a line) to predict 'price' and plot what it looks like."
   ]
  },
  {
   "cell_type": "code",
   "execution_count": 18,
   "metadata": {
    "collapsed": false
   },
   "outputs": [],
   "source": [
    "poly1_data = polynomial_sframe(sales['sqft_living'], 1)\n",
    "poly1_data['price'] = sales['price'] # add price to the data since it's the target"
   ]
  },
  {
   "cell_type": "markdown",
   "metadata": {},
   "source": [
    "NOTE: for all the models in this notebook use validation_set = None to ensure that all results are consistent across users."
   ]
  },
  {
   "cell_type": "code",
   "execution_count": 19,
   "metadata": {
    "collapsed": false
   },
   "outputs": [
    {
     "data": {
      "text/html": [
       "<pre>Linear regression:</pre>"
      ],
      "text/plain": [
       "Linear regression:"
      ]
     },
     "metadata": {},
     "output_type": "display_data"
    },
    {
     "data": {
      "text/html": [
       "<pre>--------------------------------------------------------</pre>"
      ],
      "text/plain": [
       "--------------------------------------------------------"
      ]
     },
     "metadata": {},
     "output_type": "display_data"
    },
    {
     "data": {
      "text/html": [
       "<pre>Number of examples          : 21613</pre>"
      ],
      "text/plain": [
       "Number of examples          : 21613"
      ]
     },
     "metadata": {},
     "output_type": "display_data"
    },
    {
     "data": {
      "text/html": [
       "<pre>Number of features          : 1</pre>"
      ],
      "text/plain": [
       "Number of features          : 1"
      ]
     },
     "metadata": {},
     "output_type": "display_data"
    },
    {
     "data": {
      "text/html": [
       "<pre>Number of unpacked features : 1</pre>"
      ],
      "text/plain": [
       "Number of unpacked features : 1"
      ]
     },
     "metadata": {},
     "output_type": "display_data"
    },
    {
     "data": {
      "text/html": [
       "<pre>Number of coefficients    : 2</pre>"
      ],
      "text/plain": [
       "Number of coefficients    : 2"
      ]
     },
     "metadata": {},
     "output_type": "display_data"
    },
    {
     "data": {
      "text/html": [
       "<pre>Starting Newton Method</pre>"
      ],
      "text/plain": [
       "Starting Newton Method"
      ]
     },
     "metadata": {},
     "output_type": "display_data"
    },
    {
     "data": {
      "text/html": [
       "<pre>--------------------------------------------------------</pre>"
      ],
      "text/plain": [
       "--------------------------------------------------------"
      ]
     },
     "metadata": {},
     "output_type": "display_data"
    },
    {
     "data": {
      "text/html": [
       "<pre>+-----------+----------+--------------+--------------------+---------------+</pre>"
      ],
      "text/plain": [
       "+-----------+----------+--------------+--------------------+---------------+"
      ]
     },
     "metadata": {},
     "output_type": "display_data"
    },
    {
     "data": {
      "text/html": [
       "<pre>| Iteration | Passes   | Elapsed Time | Training-max_error | Training-rmse |</pre>"
      ],
      "text/plain": [
       "| Iteration | Passes   | Elapsed Time | Training-max_error | Training-rmse |"
      ]
     },
     "metadata": {},
     "output_type": "display_data"
    },
    {
     "data": {
      "text/html": [
       "<pre>+-----------+----------+--------------+--------------------+---------------+</pre>"
      ],
      "text/plain": [
       "+-----------+----------+--------------+--------------------+---------------+"
      ]
     },
     "metadata": {},
     "output_type": "display_data"
    },
    {
     "data": {
      "text/html": [
       "<pre>| 1         | 2        | 1.024607     | 4362074.696077     | 261440.790724 |</pre>"
      ],
      "text/plain": [
       "| 1         | 2        | 1.024607     | 4362074.696077     | 261440.790724 |"
      ]
     },
     "metadata": {},
     "output_type": "display_data"
    },
    {
     "data": {
      "text/html": [
       "<pre>+-----------+----------+--------------+--------------------+---------------+</pre>"
      ],
      "text/plain": [
       "+-----------+----------+--------------+--------------------+---------------+"
      ]
     },
     "metadata": {},
     "output_type": "display_data"
    },
    {
     "data": {
      "text/html": [
       "<pre>SUCCESS: Optimal solution found.</pre>"
      ],
      "text/plain": [
       "SUCCESS: Optimal solution found."
      ]
     },
     "metadata": {},
     "output_type": "display_data"
    },
    {
     "data": {
      "text/html": [
       "<pre></pre>"
      ],
      "text/plain": []
     },
     "metadata": {},
     "output_type": "display_data"
    }
   ],
   "source": [
    "model1 = graphlab.linear_regression.create(poly1_data, target = 'price', features = ['power_1'], validation_set = None)"
   ]
  },
  {
   "cell_type": "code",
   "execution_count": 20,
   "metadata": {
    "collapsed": false
   },
   "outputs": [
    {
     "data": {
      "text/html": [
       "<div style=\"max-height:1000px;max-width:1500px;overflow:auto;\"><table frame=\"box\" rules=\"cols\">\n",
       "    <tr>\n",
       "        <th style=\"padding-left: 1em; padding-right: 1em; text-align: center\">name</th>\n",
       "        <th style=\"padding-left: 1em; padding-right: 1em; text-align: center\">index</th>\n",
       "        <th style=\"padding-left: 1em; padding-right: 1em; text-align: center\">value</th>\n",
       "        <th style=\"padding-left: 1em; padding-right: 1em; text-align: center\">stderr</th>\n",
       "    </tr>\n",
       "    <tr>\n",
       "        <td style=\"padding-left: 1em; padding-right: 1em; text-align: center; vertical-align: top\">(intercept)</td>\n",
       "        <td style=\"padding-left: 1em; padding-right: 1em; text-align: center; vertical-align: top\">None</td>\n",
       "        <td style=\"padding-left: 1em; padding-right: 1em; text-align: center; vertical-align: top\">-43579.0852515</td>\n",
       "        <td style=\"padding-left: 1em; padding-right: 1em; text-align: center; vertical-align: top\">4402.68969743</td>\n",
       "    </tr>\n",
       "    <tr>\n",
       "        <td style=\"padding-left: 1em; padding-right: 1em; text-align: center; vertical-align: top\">power_1</td>\n",
       "        <td style=\"padding-left: 1em; padding-right: 1em; text-align: center; vertical-align: top\">None</td>\n",
       "        <td style=\"padding-left: 1em; padding-right: 1em; text-align: center; vertical-align: top\">280.622770886</td>\n",
       "        <td style=\"padding-left: 1em; padding-right: 1em; text-align: center; vertical-align: top\">1.93639855513</td>\n",
       "    </tr>\n",
       "</table>\n",
       "[2 rows x 4 columns]<br/>\n",
       "</div>"
      ],
      "text/plain": [
       "Columns:\n",
       "\tname\tstr\n",
       "\tindex\tstr\n",
       "\tvalue\tfloat\n",
       "\tstderr\tfloat\n",
       "\n",
       "Rows: 2\n",
       "\n",
       "Data:\n",
       "+-------------+-------+----------------+---------------+\n",
       "|     name    | index |     value      |     stderr    |\n",
       "+-------------+-------+----------------+---------------+\n",
       "| (intercept) |  None | -43579.0852515 | 4402.68969743 |\n",
       "|   power_1   |  None | 280.622770886  | 1.93639855513 |\n",
       "+-------------+-------+----------------+---------------+\n",
       "[2 rows x 4 columns]"
      ]
     },
     "execution_count": 20,
     "metadata": {},
     "output_type": "execute_result"
    }
   ],
   "source": [
    "#let's take a look at the weights before we plot\n",
    "model1.get(\"coefficients\")"
   ]
  },
  {
   "cell_type": "code",
   "execution_count": 21,
   "metadata": {
    "collapsed": true
   },
   "outputs": [],
   "source": [
    "import matplotlib.pyplot as plt\n",
    "%matplotlib inline"
   ]
  },
  {
   "cell_type": "code",
   "execution_count": 22,
   "metadata": {
    "collapsed": false
   },
   "outputs": [
    {
     "data": {
      "text/plain": [
       "[<matplotlib.lines.Line2D at 0x12e0e9950>,\n",
       " <matplotlib.lines.Line2D at 0x12e0e9a10>]"
      ]
     },
     "execution_count": 22,
     "metadata": {},
     "output_type": "execute_result"
    },
    {
     "data": {
      "image/png": "[encoded data removed]",
      "text/plain": [
       "<matplotlib.figure.Figure at 0x12dd5b8d0>"
      ]
     },
     "metadata": {},
     "output_type": "display_data"
    }
   ],
   "source": [
    "plt.plot(poly1_data['power_1'],poly1_data['price'],'.',\n",
    "        poly1_data['power_1'], model1.predict(poly1_data),'-')"
   ]
  },
  {
   "cell_type": "markdown",
   "metadata": {},
   "source": [
    "Let's unpack that plt.plot() command. The first pair of SArrays we passed are the 1st power of sqft and the actual price we then ask it to print these as dots '.'. The next pair we pass is the 1st power of sqft and the predicted values from the linear model. We ask these to be plotted as a line '-'. \n",
    "\n",
    "We can see, not surprisingly, that the predicted values all fall on a line, specifically the one with slope 280 and intercept -43579. What if we wanted to plot a second degree polynomial?"
   ]
  },
  {
   "cell_type": "code",
   "execution_count": 23,
   "metadata": {
    "collapsed": false
   },
   "outputs": [
    {
     "data": {
      "text/html": [
       "<pre>Linear regression:</pre>"
      ],
      "text/plain": [
       "Linear regression:"
      ]
     },
     "metadata": {},
     "output_type": "display_data"
    },
    {
     "data": {
      "text/html": [
       "<pre>--------------------------------------------------------</pre>"
      ],
      "text/plain": [
       "--------------------------------------------------------"
      ]
     },
     "metadata": {},
     "output_type": "display_data"
    },
    {
     "data": {
      "text/html": [
       "<pre>Number of examples          : 21613</pre>"
      ],
      "text/plain": [
       "Number of examples          : 21613"
      ]
     },
     "metadata": {},
     "output_type": "display_data"
    },
    {
     "data": {
      "text/html": [
       "<pre>Number of features          : 2</pre>"
      ],
      "text/plain": [
       "Number of features          : 2"
      ]
     },
     "metadata": {},
     "output_type": "display_data"
    },
    {
     "data": {
      "text/html": [
       "<pre>Number of unpacked features : 2</pre>"
      ],
      "text/plain": [
       "Number of unpacked features : 2"
      ]
     },
     "metadata": {},
     "output_type": "display_data"
    },
    {
     "data": {
      "text/html": [
       "<pre>Number of coefficients    : 3</pre>"
      ],
      "text/plain": [
       "Number of coefficients    : 3"
      ]
     },
     "metadata": {},
     "output_type": "display_data"
    },
    {
     "data": {
      "text/html": [
       "<pre>Starting Newton Method</pre>"
      ],
      "text/plain": [
       "Starting Newton Method"
      ]
     },
     "metadata": {},
     "output_type": "display_data"
    },
    {
     "data": {
      "text/html": [
       "<pre>--------------------------------------------------------</pre>"
      ],
      "text/plain": [
       "--------------------------------------------------------"
      ]
     },
     "metadata": {},
     "output_type": "display_data"
    },
    {
     "data": {
      "text/html": [
       "<pre>+-----------+----------+--------------+--------------------+---------------+</pre>"
      ],
      "text/plain": [
       "+-----------+----------+--------------+--------------------+---------------+"
      ]
     },
     "metadata": {},
     "output_type": "display_data"
    },
    {
     "data": {
      "text/html": [
       "<pre>| Iteration | Passes   | Elapsed Time | Training-max_error | Training-rmse |</pre>"
      ],
      "text/plain": [
       "| Iteration | Passes   | Elapsed Time | Training-max_error | Training-rmse |"
      ]
     },
     "metadata": {},
     "output_type": "display_data"
    },
    {
     "data": {
      "text/html": [
       "<pre>+-----------+----------+--------------+--------------------+---------------+</pre>"
      ],
      "text/plain": [
       "+-----------+----------+--------------+--------------------+---------------+"
      ]
     },
     "metadata": {},
     "output_type": "display_data"
    },
    {
     "data": {
      "text/html": [
       "<pre>| 1         | 2        | 0.032513     | 5913020.984255     | 250948.368758 |</pre>"
      ],
      "text/plain": [
       "| 1         | 2        | 0.032513     | 5913020.984255     | 250948.368758 |"
      ]
     },
     "metadata": {},
     "output_type": "display_data"
    },
    {
     "data": {
      "text/html": [
       "<pre>+-----------+----------+--------------+--------------------+---------------+</pre>"
      ],
      "text/plain": [
       "+-----------+----------+--------------+--------------------+---------------+"
      ]
     },
     "metadata": {},
     "output_type": "display_data"
    },
    {
     "data": {
      "text/html": [
       "<pre>SUCCESS: Optimal solution found.</pre>"
      ],
      "text/plain": [
       "SUCCESS: Optimal solution found."
      ]
     },
     "metadata": {},
     "output_type": "display_data"
    },
    {
     "data": {
      "text/html": [
       "<pre></pre>"
      ],
      "text/plain": []
     },
     "metadata": {},
     "output_type": "display_data"
    }
   ],
   "source": [
    "poly2_data = polynomial_sframe(sales['sqft_living'], 2)\n",
    "my_features = poly2_data.column_names() # get the name of the features\n",
    "poly2_data['price'] = sales['price'] # add price to the data since it's the target\n",
    "model2 = graphlab.linear_regression.create(poly2_data, target = 'price', features = my_features, validation_set = None)"
   ]
  },
  {
   "cell_type": "code",
   "execution_count": 51,
   "metadata": {
    "collapsed": false
   },
   "outputs": [
    {
     "data": {
      "text/plain": [
       "['power_1', 'power_2']"
      ]
     },
     "execution_count": 51,
     "metadata": {},
     "output_type": "execute_result"
    }
   ],
   "source": [
    "my_features"
   ]
  },
  {
   "cell_type": "code",
   "execution_count": 24,
   "metadata": {
    "collapsed": false
   },
   "outputs": [
    {
     "data": {
      "text/html": [
       "<div style=\"max-height:1000px;max-width:1500px;overflow:auto;\"><table frame=\"box\" rules=\"cols\">\n",
       "    <tr>\n",
       "        <th style=\"padding-left: 1em; padding-right: 1em; text-align: center\">name</th>\n",
       "        <th style=\"padding-left: 1em; padding-right: 1em; text-align: center\">index</th>\n",
       "        <th style=\"padding-left: 1em; padding-right: 1em; text-align: center\">value</th>\n",
       "        <th style=\"padding-left: 1em; padding-right: 1em; text-align: center\">stderr</th>\n",
       "    </tr>\n",
       "    <tr>\n",
       "        <td style=\"padding-left: 1em; padding-right: 1em; text-align: center; vertical-align: top\">(intercept)</td>\n",
       "        <td style=\"padding-left: 1em; padding-right: 1em; text-align: center; vertical-align: top\">None</td>\n",
       "        <td style=\"padding-left: 1em; padding-right: 1em; text-align: center; vertical-align: top\">199222.496445</td>\n",
       "        <td style=\"padding-left: 1em; padding-right: 1em; text-align: center; vertical-align: top\">7058.00483552</td>\n",
       "    </tr>\n",
       "    <tr>\n",
       "        <td style=\"padding-left: 1em; padding-right: 1em; text-align: center; vertical-align: top\">power_1</td>\n",
       "        <td style=\"padding-left: 1em; padding-right: 1em; text-align: center; vertical-align: top\">None</td>\n",
       "        <td style=\"padding-left: 1em; padding-right: 1em; text-align: center; vertical-align: top\">67.9940640677</td>\n",
       "        <td style=\"padding-left: 1em; padding-right: 1em; text-align: center; vertical-align: top\">5.28787201316</td>\n",
       "    </tr>\n",
       "    <tr>\n",
       "        <td style=\"padding-left: 1em; padding-right: 1em; text-align: center; vertical-align: top\">power_2</td>\n",
       "        <td style=\"padding-left: 1em; padding-right: 1em; text-align: center; vertical-align: top\">None</td>\n",
       "        <td style=\"padding-left: 1em; padding-right: 1em; text-align: center; vertical-align: top\">0.0385812312789</td>\n",
       "        <td style=\"padding-left: 1em; padding-right: 1em; text-align: center; vertical-align: top\">0.000898246547032</td>\n",
       "    </tr>\n",
       "</table>\n",
       "[3 rows x 4 columns]<br/>\n",
       "</div>"
      ],
      "text/plain": [
       "Columns:\n",
       "\tname\tstr\n",
       "\tindex\tstr\n",
       "\tvalue\tfloat\n",
       "\tstderr\tfloat\n",
       "\n",
       "Rows: 3\n",
       "\n",
       "Data:\n",
       "+-------------+-------+-----------------+-------------------+\n",
       "|     name    | index |      value      |       stderr      |\n",
       "+-------------+-------+-----------------+-------------------+\n",
       "| (intercept) |  None |  199222.496445  |   7058.00483552   |\n",
       "|   power_1   |  None |  67.9940640677  |   5.28787201316   |\n",
       "|   power_2   |  None | 0.0385812312789 | 0.000898246547032 |\n",
       "+-------------+-------+-----------------+-------------------+\n",
       "[3 rows x 4 columns]"
      ]
     },
     "execution_count": 24,
     "metadata": {},
     "output_type": "execute_result"
    }
   ],
   "source": [
    "model2.get(\"coefficients\")"
   ]
  },
  {
   "cell_type": "code",
   "execution_count": 25,
   "metadata": {
    "collapsed": false
   },
   "outputs": [
    {
     "data": {
      "text/plain": [
       "[<matplotlib.lines.Line2D at 0x12d8b4710>,\n",
       " <matplotlib.lines.Line2D at 0x12d8b47d0>]"
      ]
     },
     "execution_count": 25,
     "metadata": {},
     "output_type": "execute_result"
    },
    {
     "data": {
      "image/png": "[encoded data removed]",
      "text/plain": [
       "<matplotlib.figure.Figure at 0x12e4ab210>"
      ]
     },
     "metadata": {},
     "output_type": "display_data"
    }
   ],
   "source": [
    "plt.plot(poly2_data['power_1'],poly2_data['price'],'.',\n",
    "        poly2_data['power_1'], model2.predict(poly2_data),'-')"
   ]
  },
  {
   "cell_type": "markdown",
   "metadata": {},
   "source": [
    "The resulting model looks like half a parabola. Try on your own to see what the cubic looks like:"
   ]
  },
  {
   "cell_type": "code",
   "execution_count": 26,
   "metadata": {
    "collapsed": false
   },
   "outputs": [
    {
     "data": {
      "text/html": [
       "<pre>Linear regression:</pre>"
      ],
      "text/plain": [
       "Linear regression:"
      ]
     },
     "metadata": {},
     "output_type": "display_data"
    },
    {
     "data": {
      "text/html": [
       "<pre>--------------------------------------------------------</pre>"
      ],
      "text/plain": [
       "--------------------------------------------------------"
      ]
     },
     "metadata": {},
     "output_type": "display_data"
    },
    {
     "data": {
      "text/html": [
       "<pre>Number of examples          : 21613</pre>"
      ],
      "text/plain": [
       "Number of examples          : 21613"
      ]
     },
     "metadata": {},
     "output_type": "display_data"
    },
    {
     "data": {
      "text/html": [
       "<pre>Number of features          : 3</pre>"
      ],
      "text/plain": [
       "Number of features          : 3"
      ]
     },
     "metadata": {},
     "output_type": "display_data"
    },
    {
     "data": {
      "text/html": [
       "<pre>Number of unpacked features : 3</pre>"
      ],
      "text/plain": [
       "Number of unpacked features : 3"
      ]
     },
     "metadata": {},
     "output_type": "display_data"
    },
    {
     "data": {
      "text/html": [
       "<pre>Number of coefficients    : 4</pre>"
      ],
      "text/plain": [
       "Number of coefficients    : 4"
      ]
     },
     "metadata": {},
     "output_type": "display_data"
    },
    {
     "data": {
      "text/html": [
       "<pre>Starting Newton Method</pre>"
      ],
      "text/plain": [
       "Starting Newton Method"
      ]
     },
     "metadata": {},
     "output_type": "display_data"
    },
    {
     "data": {
      "text/html": [
       "<pre>--------------------------------------------------------</pre>"
      ],
      "text/plain": [
       "--------------------------------------------------------"
      ]
     },
     "metadata": {},
     "output_type": "display_data"
    },
    {
     "data": {
      "text/html": [
       "<pre>+-----------+----------+--------------+--------------------+---------------+</pre>"
      ],
      "text/plain": [
       "+-----------+----------+--------------+--------------------+---------------+"
      ]
     },
     "metadata": {},
     "output_type": "display_data"
    },
    {
     "data": {
      "text/html": [
       "<pre>| Iteration | Passes   | Elapsed Time | Training-max_error | Training-rmse |</pre>"
      ],
      "text/plain": [
       "| Iteration | Passes   | Elapsed Time | Training-max_error | Training-rmse |"
      ]
     },
     "metadata": {},
     "output_type": "display_data"
    },
    {
     "data": {
      "text/html": [
       "<pre>+-----------+----------+--------------+--------------------+---------------+</pre>"
      ],
      "text/plain": [
       "+-----------+----------+--------------+--------------------+---------------+"
      ]
     },
     "metadata": {},
     "output_type": "display_data"
    },
    {
     "data": {
      "text/html": [
       "<pre>| 1         | 2        | 0.037239     | 3261066.736007     | 249261.286346 |</pre>"
      ],
      "text/plain": [
       "| 1         | 2        | 0.037239     | 3261066.736007     | 249261.286346 |"
      ]
     },
     "metadata": {},
     "output_type": "display_data"
    },
    {
     "data": {
      "text/html": [
       "<pre>+-----------+----------+--------------+--------------------+---------------+</pre>"
      ],
      "text/plain": [
       "+-----------+----------+--------------+--------------------+---------------+"
      ]
     },
     "metadata": {},
     "output_type": "display_data"
    },
    {
     "data": {
      "text/html": [
       "<pre>SUCCESS: Optimal solution found.</pre>"
      ],
      "text/plain": [
       "SUCCESS: Optimal solution found."
      ]
     },
     "metadata": {},
     "output_type": "display_data"
    },
    {
     "data": {
      "text/html": [
       "<pre></pre>"
      ],
      "text/plain": []
     },
     "metadata": {},
     "output_type": "display_data"
    },
    {
     "data": {
      "text/html": [
       "<div style=\"max-height:1000px;max-width:1500px;overflow:auto;\"><table frame=\"box\" rules=\"cols\">\n",
       "    <tr>\n",
       "        <th style=\"padding-left: 1em; padding-right: 1em; text-align: center\">name</th>\n",
       "        <th style=\"padding-left: 1em; padding-right: 1em; text-align: center\">index</th>\n",
       "        <th style=\"padding-left: 1em; padding-right: 1em; text-align: center\">value</th>\n",
       "        <th style=\"padding-left: 1em; padding-right: 1em; text-align: center\">stderr</th>\n",
       "    </tr>\n",
       "    <tr>\n",
       "        <td style=\"padding-left: 1em; padding-right: 1em; text-align: center; vertical-align: top\">(intercept)</td>\n",
       "        <td style=\"padding-left: 1em; padding-right: 1em; text-align: center; vertical-align: top\">None</td>\n",
       "        <td style=\"padding-left: 1em; padding-right: 1em; text-align: center; vertical-align: top\">336788.117952</td>\n",
       "        <td style=\"padding-left: 1em; padding-right: 1em; text-align: center; vertical-align: top\">10661.0153713</td>\n",
       "    </tr>\n",
       "    <tr>\n",
       "        <td style=\"padding-left: 1em; padding-right: 1em; text-align: center; vertical-align: top\">power_1</td>\n",
       "        <td style=\"padding-left: 1em; padding-right: 1em; text-align: center; vertical-align: top\">None</td>\n",
       "        <td style=\"padding-left: 1em; padding-right: 1em; text-align: center; vertical-align: top\">-90.1476236119</td>\n",
       "        <td style=\"padding-left: 1em; padding-right: 1em; text-align: center; vertical-align: top\">10.6222891844</td>\n",
       "    </tr>\n",
       "    <tr>\n",
       "        <td style=\"padding-left: 1em; padding-right: 1em; text-align: center; vertical-align: top\">power_2</td>\n",
       "        <td style=\"padding-left: 1em; padding-right: 1em; text-align: center; vertical-align: top\">None</td>\n",
       "        <td style=\"padding-left: 1em; padding-right: 1em; text-align: center; vertical-align: top\">0.087036715081</td>\n",
       "        <td style=\"padding-left: 1em; padding-right: 1em; text-align: center; vertical-align: top\">0.00296630623148</td>\n",
       "    </tr>\n",
       "    <tr>\n",
       "        <td style=\"padding-left: 1em; padding-right: 1em; text-align: center; vertical-align: top\">power_3</td>\n",
       "        <td style=\"padding-left: 1em; padding-right: 1em; text-align: center; vertical-align: top\">None</td>\n",
       "        <td style=\"padding-left: 1em; padding-right: 1em; text-align: center; vertical-align: top\">-3.8398521196e-06</td>\n",
       "        <td style=\"padding-left: 1em; padding-right: 1em; text-align: center; vertical-align: top\">2.2417490959e-07</td>\n",
       "    </tr>\n",
       "</table>\n",
       "[4 rows x 4 columns]<br/>\n",
       "</div>"
      ],
      "text/plain": [
       "Columns:\n",
       "\tname\tstr\n",
       "\tindex\tstr\n",
       "\tvalue\tfloat\n",
       "\tstderr\tfloat\n",
       "\n",
       "Rows: 4\n",
       "\n",
       "Data:\n",
       "+-------------+-------+-------------------+------------------+\n",
       "|     name    | index |       value       |      stderr      |\n",
       "+-------------+-------+-------------------+------------------+\n",
       "| (intercept) |  None |   336788.117952   |  10661.0153713   |\n",
       "|   power_1   |  None |   -90.1476236119  |  10.6222891844   |\n",
       "|   power_2   |  None |   0.087036715081  | 0.00296630623148 |\n",
       "|   power_3   |  None | -3.8398521196e-06 | 2.2417490959e-07 |\n",
       "+-------------+-------+-------------------+------------------+\n",
       "[4 rows x 4 columns]"
      ]
     },
     "execution_count": 26,
     "metadata": {},
     "output_type": "execute_result"
    }
   ],
   "source": [
    "poly3_data = polynomial_sframe(sales['sqft_living'], 3)\n",
    "poly3_features = poly3_data.column_names() # get the name of the features\n",
    "poly3_data['price'] = sales['price'] # add price to the data since it's the target\n",
    "model3 = graphlab.linear_regression.create(poly3_data, target = 'price', features = poly3_features, validation_set = None)\n",
    "model3.get(\"coefficients\")"
   ]
  },
  {
   "cell_type": "code",
   "execution_count": 27,
   "metadata": {
    "collapsed": false
   },
   "outputs": [
    {
     "data": {
      "text/plain": [
       "[<matplotlib.lines.Line2D at 0x1201fd990>,\n",
       " <matplotlib.lines.Line2D at 0x1201fda50>]"
      ]
     },
     "execution_count": 27,
     "metadata": {},
     "output_type": "execute_result"
    },
    {
     "data": {
      "image/png": "[encoded data removed]",
      "text/plain": [
       "<matplotlib.figure.Figure at 0x12d8cff90>"
      ]
     },
     "metadata": {},
     "output_type": "display_data"
    }
   ],
   "source": [
    "plt.plot(poly3_data['power_1'],poly3_data['price'],'.',\n",
    "        poly3_data['power_1'], model3.predict(poly3_data),'-')"
   ]
  },
  {
   "cell_type": "markdown",
   "metadata": {},
   "source": [
    "Now try a 15th degree polynomial:"
   ]
  },
  {
   "cell_type": "code",
   "execution_count": 46,
   "metadata": {
    "collapsed": false
   },
   "outputs": [
    {
     "data": {
      "text/html": [
       "<pre>Linear regression:</pre>"
      ],
      "text/plain": [
       "Linear regression:"
      ]
     },
     "metadata": {},
     "output_type": "display_data"
    },
    {
     "data": {
      "text/html": [
       "<pre>--------------------------------------------------------</pre>"
      ],
      "text/plain": [
       "--------------------------------------------------------"
      ]
     },
     "metadata": {},
     "output_type": "display_data"
    },
    {
     "data": {
      "text/html": [
       "<pre>Number of examples          : 21613</pre>"
      ],
      "text/plain": [
       "Number of examples          : 21613"
      ]
     },
     "metadata": {},
     "output_type": "display_data"
    },
    {
     "data": {
      "text/html": [
       "<pre>Number of features          : 15</pre>"
      ],
      "text/plain": [
       "Number of features          : 15"
      ]
     },
     "metadata": {},
     "output_type": "display_data"
    },
    {
     "data": {
      "text/html": [
       "<pre>Number of unpacked features : 15</pre>"
      ],
      "text/plain": [
       "Number of unpacked features : 15"
      ]
     },
     "metadata": {},
     "output_type": "display_data"
    },
    {
     "data": {
      "text/html": [
       "<pre>Number of coefficients    : 16</pre>"
      ],
      "text/plain": [
       "Number of coefficients    : 16"
      ]
     },
     "metadata": {},
     "output_type": "display_data"
    },
    {
     "data": {
      "text/html": [
       "<pre>Starting Newton Method</pre>"
      ],
      "text/plain": [
       "Starting Newton Method"
      ]
     },
     "metadata": {},
     "output_type": "display_data"
    },
    {
     "data": {
      "text/html": [
       "<pre>--------------------------------------------------------</pre>"
      ],
      "text/plain": [
       "--------------------------------------------------------"
      ]
     },
     "metadata": {},
     "output_type": "display_data"
    },
    {
     "data": {
      "text/html": [
       "<pre>+-----------+----------+--------------+--------------------+---------------+</pre>"
      ],
      "text/plain": [
       "+-----------+----------+--------------+--------------------+---------------+"
      ]
     },
     "metadata": {},
     "output_type": "display_data"
    },
    {
     "data": {
      "text/html": [
       "<pre>| Iteration | Passes   | Elapsed Time | Training-max_error | Training-rmse |</pre>"
      ],
      "text/plain": [
       "| Iteration | Passes   | Elapsed Time | Training-max_error | Training-rmse |"
      ]
     },
     "metadata": {},
     "output_type": "display_data"
    },
    {
     "data": {
      "text/html": [
       "<pre>+-----------+----------+--------------+--------------------+---------------+</pre>"
      ],
      "text/plain": [
       "+-----------+----------+--------------+--------------------+---------------+"
      ]
     },
     "metadata": {},
     "output_type": "display_data"
    },
    {
     "data": {
      "text/html": [
       "<pre>| 1         | 2        | 0.026650     | 2662308.584342     | 245690.511190 |</pre>"
      ],
      "text/plain": [
       "| 1         | 2        | 0.026650     | 2662308.584342     | 245690.511190 |"
      ]
     },
     "metadata": {},
     "output_type": "display_data"
    },
    {
     "data": {
      "text/html": [
       "<pre>+-----------+----------+--------------+--------------------+---------------+</pre>"
      ],
      "text/plain": [
       "+-----------+----------+--------------+--------------------+---------------+"
      ]
     },
     "metadata": {},
     "output_type": "display_data"
    },
    {
     "name": "stdout",
     "output_type": "stream",
     "text": [
      "{'index': None, 'stderr': nan, 'name': 'power_15', 'value': 1.3988169077669222e-54}\n"
     ]
    },
    {
     "data": {
      "text/html": [
       "<pre>SUCCESS: Optimal solution found.</pre>"
      ],
      "text/plain": [
       "SUCCESS: Optimal solution found."
      ]
     },
     "metadata": {},
     "output_type": "display_data"
    },
    {
     "data": {
      "text/html": [
       "<pre></pre>"
      ],
      "text/plain": []
     },
     "metadata": {},
     "output_type": "display_data"
    }
   ],
   "source": [
    "poly15_data = polynomial_sframe(sales['sqft_living'], 15)\n",
    "poly15_features = poly15_data.column_names() # get the name of the features\n",
    "poly15_data['price'] = sales['price'] # add price to the data since it's the target\n",
    "model15 = graphlab.linear_regression.create(poly15_data, target = 'price', features = poly15_features, validation_set = None)\n",
    "model15.get(\"coefficients\")\n",
    "print model15.get(\"coefficients\")[15]"
   ]
  },
  {
   "cell_type": "code",
   "execution_count": 29,
   "metadata": {
    "collapsed": false
   },
   "outputs": [
    {
     "data": {
      "text/plain": [
       "[<matplotlib.lines.Line2D at 0x11fd18d90>,\n",
       " <matplotlib.lines.Line2D at 0x11fd18e50>]"
      ]
     },
     "execution_count": 29,
     "metadata": {},
     "output_type": "execute_result"
    },
    {
     "data": {
      "image/png": "[encoded data removed]",
      "text/plain": [
       "<matplotlib.figure.Figure at 0x12db830d0>"
      ]
     },
     "metadata": {},
     "output_type": "display_data"
    }
   ],
   "source": [
    "plt.plot(poly15_data['power_1'],poly15_data['price'],'.',\n",
    "        poly15_data['power_1'], model15.predict(poly15_data),'-')"
   ]
  },
  {
   "cell_type": "markdown",
   "metadata": {},
   "source": [
    "What do you think of the 15th degree polynomial? Do you think this is appropriate? If we were to change the data do you think you'd get pretty much the same curve? Let's take a look."
   ]
  },
  {
   "cell_type": "markdown",
   "metadata": {},
   "source": [
    "# Changing the data and re-learning"
   ]
  },
  {
   "cell_type": "markdown",
   "metadata": {},
   "source": [
    "We're going to split the sales data into four subsets of roughly equal size. Then you will estimate a 15th degree polynomial model on all four subsets of the data. Print the coefficients (you should use .print_rows(num_rows = 16) to view all of them) and plot the resulting fit (as we did above). The quiz will ask you some questions about these results.\n",
    "\n",
    "To split the sales data into four subsets, we perform the following steps:\n",
    "* First split sales into 2 subsets with `.random_split(0.5, seed=0)`. \n",
    "* Next split the resulting subsets into 2 more subsets each. Use `.random_split(0.5, seed=0)`.\n",
    "\n",
    "We set `seed=0` in these steps so that different users get consistent results.\n",
    "You should end up with 4 subsets (`set_1`, `set_2`, `set_3`, `set_4`) of approximately equal size. "
   ]
  },
  {
   "cell_type": "code",
   "execution_count": 38,
   "metadata": {
    "collapsed": false
   },
   "outputs": [],
   "source": [
    "half_data1,half_data2 = sales.random_split(.5,seed=0)\n",
    "set_1, set_2 = half_data1.random_split(.5,seed=0)\n",
    "set_3, set_4 = half_data2.random_split(.5,seed=0)"
   ]
  },
  {
   "cell_type": "markdown",
   "metadata": {},
   "source": [
    "Fit a 15th degree polynomial on set_1, set_2, set_3, and set_4 using sqft_living to predict prices. Print the coefficients and make a plot of the resulting model."
   ]
  },
  {
   "cell_type": "code",
   "execution_count": 92,
   "metadata": {
    "collapsed": false
   },
   "outputs": [
    {
     "data": {
      "text/html": [
       "<pre>Linear regression:</pre>"
      ],
      "text/plain": [
       "Linear regression:"
      ]
     },
     "metadata": {},
     "output_type": "display_data"
    },
    {
     "data": {
      "text/html": [
       "<pre>--------------------------------------------------------</pre>"
      ],
      "text/plain": [
       "--------------------------------------------------------"
      ]
     },
     "metadata": {},
     "output_type": "display_data"
    },
    {
     "data": {
      "text/html": [
       "<pre>Number of examples          : 5404</pre>"
      ],
      "text/plain": [
       "Number of examples          : 5404"
      ]
     },
     "metadata": {},
     "output_type": "display_data"
    },
    {
     "data": {
      "text/html": [
       "<pre>Number of features          : 15</pre>"
      ],
      "text/plain": [
       "Number of features          : 15"
      ]
     },
     "metadata": {},
     "output_type": "display_data"
    },
    {
     "data": {
      "text/html": [
       "<pre>Number of unpacked features : 15</pre>"
      ],
      "text/plain": [
       "Number of unpacked features : 15"
      ]
     },
     "metadata": {},
     "output_type": "display_data"
    },
    {
     "data": {
      "text/html": [
       "<pre>Number of coefficients    : 16</pre>"
      ],
      "text/plain": [
       "Number of coefficients    : 16"
      ]
     },
     "metadata": {},
     "output_type": "display_data"
    },
    {
     "data": {
      "text/html": [
       "<pre>Starting Newton Method</pre>"
      ],
      "text/plain": [
       "Starting Newton Method"
      ]
     },
     "metadata": {},
     "output_type": "display_data"
    },
    {
     "data": {
      "text/html": [
       "<pre>--------------------------------------------------------</pre>"
      ],
      "text/plain": [
       "--------------------------------------------------------"
      ]
     },
     "metadata": {},
     "output_type": "display_data"
    },
    {
     "data": {
      "text/html": [
       "<pre>+-----------+----------+--------------+--------------------+---------------+</pre>"
      ],
      "text/plain": [
       "+-----------+----------+--------------+--------------------+---------------+"
      ]
     },
     "metadata": {},
     "output_type": "display_data"
    },
    {
     "data": {
      "text/html": [
       "<pre>| Iteration | Passes   | Elapsed Time | Training-max_error | Training-rmse |</pre>"
      ],
      "text/plain": [
       "| Iteration | Passes   | Elapsed Time | Training-max_error | Training-rmse |"
      ]
     },
     "metadata": {},
     "output_type": "display_data"
    },
    {
     "data": {
      "text/html": [
       "<pre>+-----------+----------+--------------+--------------------+---------------+</pre>"
      ],
      "text/plain": [
       "+-----------+----------+--------------+--------------------+---------------+"
      ]
     },
     "metadata": {},
     "output_type": "display_data"
    },
    {
     "data": {
      "text/html": [
       "<pre>| 1         | 2        | 0.044334     | 2195218.932304     | 248858.822200 |</pre>"
      ],
      "text/plain": [
       "| 1         | 2        | 0.044334     | 2195218.932304     | 248858.822200 |"
      ]
     },
     "metadata": {},
     "output_type": "display_data"
    },
    {
     "data": {
      "text/html": [
       "<pre>+-----------+----------+--------------+--------------------+---------------+</pre>"
      ],
      "text/plain": [
       "+-----------+----------+--------------+--------------------+---------------+"
      ]
     },
     "metadata": {},
     "output_type": "display_data"
    },
    {
     "name": "stdout",
     "output_type": "stream",
     "text": [
      "{'index': None, 'stderr': 2.760208853109518e-50, 'name': 'power_15', 'value': 5.019752326001633e-55}\n"
     ]
    },
    {
     "data": {
      "text/html": [
       "<pre>SUCCESS: Optimal solution found.</pre>"
      ],
      "text/plain": [
       "SUCCESS: Optimal solution found."
      ]
     },
     "metadata": {},
     "output_type": "display_data"
    },
    {
     "data": {
      "text/html": [
       "<pre></pre>"
      ],
      "text/plain": []
     },
     "metadata": {},
     "output_type": "display_data"
    },
    {
     "data": {
      "text/plain": [
       "[<matplotlib.lines.Line2D at 0x13745c990>,\n",
       " <matplotlib.lines.Line2D at 0x13745ca50>]"
      ]
     },
     "execution_count": 92,
     "metadata": {},
     "output_type": "execute_result"
    },
    {
     "data": {
      "image/png": "[encoded data removed]",
      "text/plain": [
       "<matplotlib.figure.Figure at 0x12d87e0d0>"
      ]
     },
     "metadata": {},
     "output_type": "display_data"
    }
   ],
   "source": [
    "set1_15_data = polynomial_sframe(set_1['sqft_living'], 15)\n",
    "set1_15_features = set1_15_data.column_names() # get the name of the features\n",
    "set1_15_data['price'] = set_1['price'] # add price to the data since it's the target\n",
    "set1_15_model = graphlab.linear_regression.create(set1_15_data, target = 'price', features = set1_15_features, validation_set = None)\n",
    "print set1_15_model.get(\"coefficients\")[15]\n",
    "plt.plot(poly15_data['power_1'],poly15_data['price'],'.',\n",
    "        set1_15_data['power_1'], model15.predict(set_1),'-')"
   ]
  },
  {
   "cell_type": "code",
   "execution_count": 70,
   "metadata": {
    "collapsed": false
   },
   "outputs": [
    {
     "data": {
      "text/html": [
       "<pre>Linear regression:</pre>"
      ],
      "text/plain": [
       "Linear regression:"
      ]
     },
     "metadata": {},
     "output_type": "display_data"
    },
    {
     "data": {
      "text/html": [
       "<pre>--------------------------------------------------------</pre>"
      ],
      "text/plain": [
       "--------------------------------------------------------"
      ]
     },
     "metadata": {},
     "output_type": "display_data"
    },
    {
     "data": {
      "text/html": [
       "<pre>Number of examples          : 5398</pre>"
      ],
      "text/plain": [
       "Number of examples          : 5398"
      ]
     },
     "metadata": {},
     "output_type": "display_data"
    },
    {
     "data": {
      "text/html": [
       "<pre>Number of features          : 15</pre>"
      ],
      "text/plain": [
       "Number of features          : 15"
      ]
     },
     "metadata": {},
     "output_type": "display_data"
    },
    {
     "data": {
      "text/html": [
       "<pre>Number of unpacked features : 15</pre>"
      ],
      "text/plain": [
       "Number of unpacked features : 15"
      ]
     },
     "metadata": {},
     "output_type": "display_data"
    },
    {
     "data": {
      "text/html": [
       "<pre>Number of coefficients    : 16</pre>"
      ],
      "text/plain": [
       "Number of coefficients    : 16"
      ]
     },
     "metadata": {},
     "output_type": "display_data"
    },
    {
     "data": {
      "text/html": [
       "<pre>Starting Newton Method</pre>"
      ],
      "text/plain": [
       "Starting Newton Method"
      ]
     },
     "metadata": {},
     "output_type": "display_data"
    },
    {
     "data": {
      "text/html": [
       "<pre>--------------------------------------------------------</pre>"
      ],
      "text/plain": [
       "--------------------------------------------------------"
      ]
     },
     "metadata": {},
     "output_type": "display_data"
    },
    {
     "data": {
      "text/html": [
       "<pre>+-----------+----------+--------------+--------------------+---------------+</pre>"
      ],
      "text/plain": [
       "+-----------+----------+--------------+--------------------+---------------+"
      ]
     },
     "metadata": {},
     "output_type": "display_data"
    },
    {
     "data": {
      "text/html": [
       "<pre>| Iteration | Passes   | Elapsed Time | Training-max_error | Training-rmse |</pre>"
      ],
      "text/plain": [
       "| Iteration | Passes   | Elapsed Time | Training-max_error | Training-rmse |"
      ]
     },
     "metadata": {},
     "output_type": "display_data"
    },
    {
     "data": {
      "text/html": [
       "<pre>+-----------+----------+--------------+--------------------+---------------+</pre>"
      ],
      "text/plain": [
       "+-----------+----------+--------------+--------------------+---------------+"
      ]
     },
     "metadata": {},
     "output_type": "display_data"
    },
    {
     "data": {
      "text/html": [
       "<pre>| 1         | 2        | 0.037015     | 2069212.978547     | 234840.067186 |</pre>"
      ],
      "text/plain": [
       "| 1         | 2        | 0.037015     | 2069212.978547     | 234840.067186 |"
      ]
     },
     "metadata": {},
     "output_type": "display_data"
    },
    {
     "data": {
      "text/html": [
       "<pre>+-----------+----------+--------------+--------------------+---------------+</pre>"
      ],
      "text/plain": [
       "+-----------+----------+--------------+--------------------+---------------+"
      ]
     },
     "metadata": {},
     "output_type": "display_data"
    },
    {
     "name": "stdout",
     "output_type": "stream",
     "text": [
      "{'index': None, 'stderr': 5.2913037817212124e-48, 'name': 'power_15', 'value': 1.686366583151032e-52}\n"
     ]
    },
    {
     "data": {
      "text/html": [
       "<pre>SUCCESS: Optimal solution found.</pre>"
      ],
      "text/plain": [
       "SUCCESS: Optimal solution found."
      ]
     },
     "metadata": {},
     "output_type": "display_data"
    },
    {
     "data": {
      "text/html": [
       "<pre></pre>"
      ],
      "text/plain": []
     },
     "metadata": {},
     "output_type": "display_data"
    },
    {
     "data": {
      "text/plain": [
       "[<matplotlib.lines.Line2D at 0x1374e5650>,\n",
       " <matplotlib.lines.Line2D at 0x1374e5710>]"
      ]
     },
     "execution_count": 70,
     "metadata": {},
     "output_type": "execute_result"
    },
    {
     "data": {
      "image/png": "[encoded data removed]",
      "text/plain": [
       "<matplotlib.figure.Figure at 0x138b51510>"
      ]
     },
     "metadata": {},
     "output_type": "display_data"
    }
   ],
   "source": [
    "set2_15_data = polynomial_sframe(set_2['sqft_living'], 15)\n",
    "set2_15_features = set2_15_data.column_names() # get the name of the features\n",
    "set2_15_data['price'] = set_2['price'] # add price to the data since it's the target\n",
    "set2_15_model = graphlab.linear_regression.create(set2_15_data, target = 'price', features = set2_15_features, validation_set = None)\n",
    "print set2_15_model.get(\"coefficients\")[15]\n",
    "plt.plot(set_2['sqft_living'],set_2['price'],'.',\n",
    "        set_2['sqft_living'], set2_15_model.predict(set_2),'-')"
   ]
  },
  {
   "cell_type": "code",
   "execution_count": 71,
   "metadata": {
    "collapsed": false
   },
   "outputs": [
    {
     "data": {
      "text/html": [
       "<pre>Linear regression:</pre>"
      ],
      "text/plain": [
       "Linear regression:"
      ]
     },
     "metadata": {},
     "output_type": "display_data"
    },
    {
     "data": {
      "text/html": [
       "<pre>--------------------------------------------------------</pre>"
      ],
      "text/plain": [
       "--------------------------------------------------------"
      ]
     },
     "metadata": {},
     "output_type": "display_data"
    },
    {
     "data": {
      "text/html": [
       "<pre>Number of examples          : 5409</pre>"
      ],
      "text/plain": [
       "Number of examples          : 5409"
      ]
     },
     "metadata": {},
     "output_type": "display_data"
    },
    {
     "data": {
      "text/html": [
       "<pre>Number of features          : 15</pre>"
      ],
      "text/plain": [
       "Number of features          : 15"
      ]
     },
     "metadata": {},
     "output_type": "display_data"
    },
    {
     "data": {
      "text/html": [
       "<pre>Number of unpacked features : 15</pre>"
      ],
      "text/plain": [
       "Number of unpacked features : 15"
      ]
     },
     "metadata": {},
     "output_type": "display_data"
    },
    {
     "data": {
      "text/html": [
       "<pre>Number of coefficients    : 16</pre>"
      ],
      "text/plain": [
       "Number of coefficients    : 16"
      ]
     },
     "metadata": {},
     "output_type": "display_data"
    },
    {
     "data": {
      "text/html": [
       "<pre>Starting Newton Method</pre>"
      ],
      "text/plain": [
       "Starting Newton Method"
      ]
     },
     "metadata": {},
     "output_type": "display_data"
    },
    {
     "data": {
      "text/html": [
       "<pre>--------------------------------------------------------</pre>"
      ],
      "text/plain": [
       "--------------------------------------------------------"
      ]
     },
     "metadata": {},
     "output_type": "display_data"
    },
    {
     "data": {
      "text/html": [
       "<pre>+-----------+----------+--------------+--------------------+---------------+</pre>"
      ],
      "text/plain": [
       "+-----------+----------+--------------+--------------------+---------------+"
      ]
     },
     "metadata": {},
     "output_type": "display_data"
    },
    {
     "data": {
      "text/html": [
       "<pre>| Iteration | Passes   | Elapsed Time | Training-max_error | Training-rmse |</pre>"
      ],
      "text/plain": [
       "| Iteration | Passes   | Elapsed Time | Training-max_error | Training-rmse |"
      ]
     },
     "metadata": {},
     "output_type": "display_data"
    },
    {
     "data": {
      "text/html": [
       "<pre>+-----------+----------+--------------+--------------------+---------------+</pre>"
      ],
      "text/plain": [
       "+-----------+----------+--------------+--------------------+---------------+"
      ]
     },
     "metadata": {},
     "output_type": "display_data"
    },
    {
     "data": {
      "text/html": [
       "<pre>| 1         | 2        | 0.031902     | 2269769.506523     | 251460.072754 |</pre>"
      ],
      "text/plain": [
       "| 1         | 2        | 0.031902     | 2269769.506523     | 251460.072754 |"
      ]
     },
     "metadata": {},
     "output_type": "display_data"
    },
    {
     "data": {
      "text/html": [
       "<pre>+-----------+----------+--------------+--------------------+---------------+</pre>"
      ],
      "text/plain": [
       "+-----------+----------+--------------+--------------------+---------------+"
      ]
     },
     "metadata": {},
     "output_type": "display_data"
    },
    {
     "name": "stdout",
     "output_type": "stream",
     "text": [
      "{'index': None, 'stderr': 4.752829161591807e-49, 'name': 'power_15', 'value': 6.390458861645015e-53}\n"
     ]
    },
    {
     "data": {
      "text/html": [
       "<pre>SUCCESS: Optimal solution found.</pre>"
      ],
      "text/plain": [
       "SUCCESS: Optimal solution found."
      ]
     },
     "metadata": {},
     "output_type": "display_data"
    },
    {
     "data": {
      "text/html": [
       "<pre></pre>"
      ],
      "text/plain": []
     },
     "metadata": {},
     "output_type": "display_data"
    },
    {
     "data": {
      "text/plain": [
       "[<matplotlib.lines.Line2D at 0x1349261d0>,\n",
       " <matplotlib.lines.Line2D at 0x134926290>]"
      ]
     },
     "execution_count": 71,
     "metadata": {},
     "output_type": "execute_result"
    },
    {
     "data": {
      "image/png": "[encoded data removed]",
      "text/plain": [
       "<matplotlib.figure.Figure at 0x13754da90>"
      ]
     },
     "metadata": {},
     "output_type": "display_data"
    }
   ],
   "source": [
    "set3_15_data = polynomial_sframe(set_3['sqft_living'], 15)\n",
    "set3_15_features = set3_15_data.column_names() # get the name of the features\n",
    "set3_15_data['price'] = set_3['price'] # add price to the data since it's the target\n",
    "set3_15_model = graphlab.linear_regression.create(set3_15_data, target = 'price', features = set3_15_features, validation_set = None)\n",
    "print set3_15_model.get(\"coefficients\")[15]\n",
    "plt.plot(set_3['sqft_living'],set_3['price'],'.',\n",
    "        set_3['sqft_living'], set3_15_model.predict(set_3),'-')"
   ]
  },
  {
   "cell_type": "code",
   "execution_count": 72,
   "metadata": {
    "collapsed": false
   },
   "outputs": [
    {
     "data": {
      "text/html": [
       "<pre>Linear regression:</pre>"
      ],
      "text/plain": [
       "Linear regression:"
      ]
     },
     "metadata": {},
     "output_type": "display_data"
    },
    {
     "data": {
      "text/html": [
       "<pre>--------------------------------------------------------</pre>"
      ],
      "text/plain": [
       "--------------------------------------------------------"
      ]
     },
     "metadata": {},
     "output_type": "display_data"
    },
    {
     "data": {
      "text/html": [
       "<pre>Number of examples          : 5402</pre>"
      ],
      "text/plain": [
       "Number of examples          : 5402"
      ]
     },
     "metadata": {},
     "output_type": "display_data"
    },
    {
     "data": {
      "text/html": [
       "<pre>Number of features          : 15</pre>"
      ],
      "text/plain": [
       "Number of features          : 15"
      ]
     },
     "metadata": {},
     "output_type": "display_data"
    },
    {
     "data": {
      "text/html": [
       "<pre>Number of unpacked features : 15</pre>"
      ],
      "text/plain": [
       "Number of unpacked features : 15"
      ]
     },
     "metadata": {},
     "output_type": "display_data"
    },
    {
     "data": {
      "text/html": [
       "<pre>Number of coefficients    : 16</pre>"
      ],
      "text/plain": [
       "Number of coefficients    : 16"
      ]
     },
     "metadata": {},
     "output_type": "display_data"
    },
    {
     "data": {
      "text/html": [
       "<pre>Starting Newton Method</pre>"
      ],
      "text/plain": [
       "Starting Newton Method"
      ]
     },
     "metadata": {},
     "output_type": "display_data"
    },
    {
     "data": {
      "text/html": [
       "<pre>--------------------------------------------------------</pre>"
      ],
      "text/plain": [
       "--------------------------------------------------------"
      ]
     },
     "metadata": {},
     "output_type": "display_data"
    },
    {
     "data": {
      "text/html": [
       "<pre>+-----------+----------+--------------+--------------------+---------------+</pre>"
      ],
      "text/plain": [
       "+-----------+----------+--------------+--------------------+---------------+"
      ]
     },
     "metadata": {},
     "output_type": "display_data"
    },
    {
     "data": {
      "text/html": [
       "<pre>| Iteration | Passes   | Elapsed Time | Training-max_error | Training-rmse |</pre>"
      ],
      "text/plain": [
       "| Iteration | Passes   | Elapsed Time | Training-max_error | Training-rmse |"
      ]
     },
     "metadata": {},
     "output_type": "display_data"
    },
    {
     "data": {
      "text/html": [
       "<pre>+-----------+----------+--------------+--------------------+---------------+</pre>"
      ],
      "text/plain": [
       "+-----------+----------+--------------+--------------------+---------------+"
      ]
     },
     "metadata": {},
     "output_type": "display_data"
    },
    {
     "data": {
      "text/html": [
       "<pre>| 1         | 2        | 0.031804     | 2314893.173824     | 244563.136754 |</pre>"
      ],
      "text/plain": [
       "| 1         | 2        | 0.031804     | 2314893.173824     | 244563.136754 |"
      ]
     },
     "metadata": {},
     "output_type": "display_data"
    },
    {
     "data": {
      "text/html": [
       "<pre>+-----------+----------+--------------+--------------------+---------------+</pre>"
      ],
      "text/plain": [
       "+-----------+----------+--------------+--------------------+---------------+"
      ]
     },
     "metadata": {},
     "output_type": "display_data"
    },
    {
     "name": "stdout",
     "output_type": "stream",
     "text": [
      "{'index': None, 'stderr': 3.2476283079893607e-47, 'name': 'power_15', 'value': -4.7453533305895153e-51}\n"
     ]
    },
    {
     "data": {
      "text/html": [
       "<pre>SUCCESS: Optimal solution found.</pre>"
      ],
      "text/plain": [
       "SUCCESS: Optimal solution found."
      ]
     },
     "metadata": {},
     "output_type": "display_data"
    },
    {
     "data": {
      "text/html": [
       "<pre></pre>"
      ],
      "text/plain": []
     },
     "metadata": {},
     "output_type": "display_data"
    },
    {
     "data": {
      "text/plain": [
       "[<matplotlib.lines.Line2D at 0x1372a6290>,\n",
       " <matplotlib.lines.Line2D at 0x1372a6350>]"
      ]
     },
     "execution_count": 72,
     "metadata": {},
     "output_type": "execute_result"
    },
    {
     "data": {
      "image/png": "[encoded data removed]",
      "text/plain": [
       "<matplotlib.figure.Figure at 0x1371ec590>"
      ]
     },
     "metadata": {},
     "output_type": "display_data"
    }
   ],
   "source": [
    "set4_15_data = polynomial_sframe(set_4['sqft_living'], 15)\n",
    "set4_15_features = set4_15_data.column_names() # get the name of the features\n",
    "set4_15_data['price'] = set_4['price'] # add price to the data since it's the target\n",
    "set4_15_model = graphlab.linear_regression.create(set4_15_data, target = 'price', features = set4_15_features, validation_set = None)\n",
    "print set4_15_model.get(\"coefficients\")[15]\n",
    "plt.plot(set_4['sqft_living'],set_4['price'],'.',\n",
    "        set_4['sqft_living'], set4_15_model.predict(set_4),'-')"
   ]
  },
  {
   "cell_type": "code",
   "execution_count": 44,
   "metadata": {
    "collapsed": false
   },
   "outputs": [
    {
     "name": "stdout",
     "output_type": "stream",
     "text": [
      "{'index': None, 'stderr': nan, 'name': 'power_15', 'value': 1.3988169077669222e-54}\n"
     ]
    }
   ],
   "source": [
    "print model15.get(\"coefficients\")[15]"
   ]
  },
  {
   "cell_type": "markdown",
   "metadata": {},
   "source": [
    "Some questions you will be asked on your quiz:\n",
    "\n",
    "**Quiz Question: Is the sign (positive or negative) for power_15 the same in all four models?**\n",
    "\n",
    "**Quiz Question: (True/False) the plotted fitted lines look the same in all four plots**"
   ]
  },
  {
   "cell_type": "markdown",
   "metadata": {},
   "source": [
    "# Selecting a Polynomial Degree"
   ]
  },
  {
   "cell_type": "markdown",
   "metadata": {},
   "source": [
    "Whenever we have a \"magic\" parameter like the degree of the polynomial there is one well-known way to select these parameters: validation set. (We will explore another approach in week 4).\n",
    "\n",
    "We split the sales dataset 3-way into training set, test set, and validation set as follows:\n",
    "\n",
    "* Split our sales data into 2 sets: `training_and_validation` and `testing`. Use `random_split(0.9, seed=1)`.\n",
    "* Further split our training data into two sets: `training` and `validation`. Use `random_split(0.5, seed=1)`.\n",
    "\n",
    "Again, we set `seed=1` to obtain consistent results for different users."
   ]
  },
  {
   "cell_type": "code",
   "execution_count": 53,
   "metadata": {
    "collapsed": true
   },
   "outputs": [],
   "source": [
    "training_and_validation, test_data = sales.random_split(0.9, seed=1)\n",
    "train_data, validation_data = training_and_validation.random_split(0.5, seed=1)"
   ]
  },
  {
   "cell_type": "code",
   "execution_count": 86,
   "metadata": {
    "collapsed": false
   },
   "outputs": [
    {
     "data": {
      "text/plain": [
       "[<matplotlib.lines.Line2D at 0x1372f8890>]"
      ]
     },
     "execution_count": 86,
     "metadata": {},
     "output_type": "execute_result"
    },
    {
     "data": {
      "image/png": "[encoded data removed]",
      "text/plain": [
       "<matplotlib.figure.Figure at 0x1372f8a50>"
      ]
     },
     "metadata": {},
     "output_type": "display_data"
    }
   ],
   "source": [
    "plt.plot(train_data['sqft_living'],train_data['price'],'.')\n",
    "plt.plot(validation_data['sqft_living'],validation_data['price'],'.')"
   ]
  },
  {
   "cell_type": "code",
   "execution_count": 56,
   "metadata": {
    "collapsed": false
   },
   "outputs": [
    {
     "name": "stdout",
     "output_type": "stream",
     "text": [
      "[384.0, 390.0, 460.0, 470.0, 470.0, 480.0, 500.0, 520.0, 520.0, 520.0, 530.0, 530.0, 530.0, 540.0, 560.0, 570.0, 580.0, 580.0, 590.0, 590.0, 590.0, 590.0, 600.0, 600.0, 600.0, 610.0, 620.0, 620.0, 620.0, 620.0, 620.0, 620.0, 630.0, 630.0, 630.0, 640.0, 640.0, 650.0, 650.0, 660.0, 660.0, 660.0, 660.0, 670.0, 670.0, 670.0, 670.0, 670.0, 670.0, 670.0, 670.0, 670.0, 670.0, 670.0, 680.0, 680.0, 680.0, 680.0, 680.0, 690.0, 690.0, 690.0, 690.0, 700.0, 700.0, 700.0, 700.0, 700.0, 700.0, 700.0, 700.0, 700.0, 700.0, 700.0, 700.0, 700.0, 710.0, 710.0, 710.0, 710.0, 710.0, 710.0, 710.0, 710.0, 710.0, 710.0, 720.0, 720.0, 720.0, 720.0, 720.0, 720.0, 720.0, 720.0, 720.0, 720.0, 720.0, 720.0, 720.0, 720.0, ... ]\n",
      "[147456.0, 152100.0, 211600.0, 220900.0, 220900.0, 230400.0, 250000.0, 270400.0, 270400.0, 270400.0, 280900.0, 280900.0, 280900.0, 291600.0, 313600.0, 324900.0, 336400.0, 336400.0, 348100.0, 348100.0, 348100.0, 348100.0, 360000.0, 360000.0, 360000.0, 372100.0, 384400.0, 384400.0, 384400.0, 384400.0, 384400.0, 384400.0, 396900.0, 396900.0, 396900.0, 409600.0, 409600.0, 422500.0, 422500.0, 435600.0, 435600.0, 435600.0, 435600.0, 448900.0, 448900.0, 448900.0, 448900.0, 448900.0, 448900.0, 448900.0, 448900.0, 448900.0, 448900.0, 448900.0, 462400.0, 462400.0, 462400.0, 462400.0, 462400.0, 476100.0, 476100.0, 476100.0, 476100.0, 490000.0, 490000.0, 490000.0, 490000.0, 490000.0, 490000.0, 490000.0, 490000.0, 490000.0, 490000.0, 490000.0, 490000.0, 490000.0, 504100.0, 504100.0, 504100.0, 504100.0, 504100.0, 504100.0, 504100.0, 504100.0, 504100.0, 504100.0, 518400.0, 518400.0, 518400.0, 518400.0, 518400.0, 518400.0, 518400.0, 518400.0, 518400.0, 518400.0, 518400.0, 518400.0, 518400.0, 518400.0, ... ]\n",
      "[56623104.0, 59319000.0, 97336000.0, 103823000.0, 103823000.0, 110592000.0, 125000000.0, 140608000.0, 140608000.0, 140608000.0, 148877000.0, 148877000.0, 148877000.0, 157464000.0, 175616000.0, 185193000.0, 195112000.0, 195112000.0, 205379000.0, 205379000.0, 205379000.0, 205379000.0, 216000000.0, 216000000.0, 216000000.0, 226981000.0, 238328000.0, 238328000.0, 238328000.0, 238328000.0, 238328000.0, 238328000.0, 250047000.0, 250047000.0, 250047000.0, 262144000.0, 262144000.0, 274625000.0, 274625000.0, 287496000.0, 287496000.0, 287496000.0, 287496000.0, 300763000.0, 300763000.0, 300763000.0, 300763000.0, 300763000.0, 300763000.0, 300763000.0, 300763000.0, 300763000.0, 300763000.0, 300763000.0, 314432000.0, 314432000.0, 314432000.0, 314432000.0, 314432000.0, 328509000.0, 328509000.0, 328509000.0, 328509000.0, 343000000.0, 343000000.0, 343000000.0, 343000000.0, 343000000.0, 343000000.0, 343000000.0, 343000000.0, 343000000.0, 343000000.0, 343000000.0, 343000000.0, 343000000.0, 357911000.0, 357911000.0, 357911000.0, 357911000.0, 357911000.0, 357911000.0, 357911000.0, 357911000.0, 357911000.0, 357911000.0, 373248000.0, 373248000.0, 373248000.0, 373248000.0, 373248000.0, 373248000.0, 373248000.0, 373248000.0, 373248000.0, 373248000.0, 373248000.0, 373248000.0, 373248000.0, 373248000.0, ... ]\n",
      "[21743271936.0, 23134410000.0, 44774560000.0, 48796810000.0, 48796810000.0, 53084160000.0, 62500000000.0, 73116160000.0, 73116160000.0, 73116160000.0, 78904810000.0, 78904810000.0, 78904810000.0, 85030560000.0, 98344960000.0, 105560010000.0, 113164960000.0, 113164960000.0, 121173610000.0, 121173610000.0, 121173610000.0, 121173610000.0, 129600000000.0, 129600000000.0, 129600000000.0, 138458410000.0, 147763360000.0, 147763360000.0, 147763360000.0, 147763360000.0, 147763360000.0, 147763360000.0, 157529610000.0, 157529610000.0, 157529610000.0, 167772160000.0, 167772160000.0, 178506250000.0, 178506250000.0, 189747360000.0, 189747360000.0, 189747360000.0, 189747360000.0, 201511210000.0, 201511210000.0, 201511210000.0, 201511210000.0, 201511210000.0, 201511210000.0, 201511210000.0, 201511210000.0, 201511210000.0, 201511210000.0, 201511210000.0, 213813760000.0, 213813760000.0, 213813760000.0, 213813760000.0, 213813760000.0, 226671210000.0, 226671210000.0, 226671210000.0, 226671210000.0, 240100000000.0, 240100000000.0, 240100000000.0, 240100000000.0, 240100000000.0, 240100000000.0, 240100000000.0, 240100000000.0, 240100000000.0, 240100000000.0, 240100000000.0, 240100000000.0, 240100000000.0, 254116810000.0, 254116810000.0, 254116810000.0, 254116810000.0, 254116810000.0, 254116810000.0, 254116810000.0, 254116810000.0, 254116810000.0, 254116810000.0, 268738560000.0, 268738560000.0, 268738560000.0, 268738560000.0, 268738560000.0, 268738560000.0, 268738560000.0, 268738560000.0, 268738560000.0, 268738560000.0, 268738560000.0, 268738560000.0, 268738560000.0, 268738560000.0, ... ]\n",
      "[8349416423424.0, 9022419900000.0, 20596297600000.0, 22934500700000.0, 22934500700000.0, 25480396800000.0, 31250000000000.0, 38020403200000.0, 38020403200000.0, 38020403200000.0, 41819549300000.0, 41819549300000.0, 41819549300000.0, 45916502400000.0, 55073177600000.0, 60169205700000.0, 65635676800000.0, 65635676800000.0, 71492429900000.0, 71492429900000.0, 71492429900000.0, 71492429900000.0, 77760000000000.0, 77760000000000.0, 77760000000000.0, 84459630100000.0, 91613283200000.0, 91613283200000.0, 91613283200000.0, 91613283200000.0, 91613283200000.0, 91613283200000.0, 99243654300000.0, 99243654300000.0, 99243654300000.0, 107374182400000.0, 107374182400000.0, 116029062500000.0, 116029062500000.0, 125233257600000.0, 125233257600000.0, 125233257600000.0, 125233257600000.0, 135012510700000.0, 135012510700000.0, 135012510700000.0, 135012510700000.0, 135012510700000.0, 135012510700000.0, 135012510700000.0, 135012510700000.0, 135012510700000.0, 135012510700000.0, 135012510700000.0, 145393356800000.0, 145393356800000.0, 145393356800000.0, 145393356800000.0, 145393356800000.0, 156403134900000.0, 156403134900000.0, 156403134900000.0, 156403134900000.0, 168070000000000.0, 168070000000000.0, 168070000000000.0, 168070000000000.0, 168070000000000.0, 168070000000000.0, 168070000000000.0, 168070000000000.0, 168070000000000.0, 168070000000000.0, 168070000000000.0, 168070000000000.0, 168070000000000.0, 180422935100000.0, 180422935100000.0, 180422935100000.0, 180422935100000.0, 180422935100000.0, 180422935100000.0, 180422935100000.0, 180422935100000.0, 180422935100000.0, 180422935100000.0, 193491763200000.0, 193491763200000.0, 193491763200000.0, 193491763200000.0, 193491763200000.0, 193491763200000.0, 193491763200000.0, 193491763200000.0, 193491763200000.0, 193491763200000.0, 193491763200000.0, 193491763200000.0, 193491763200000.0, 193491763200000.0, ... ]\n",
      "[3206175906594816.0, 3518743761000000.0, 9474296896000000.0, 1.0779215329e+16, 1.0779215329e+16, 1.2230590464e+16, 1.5625e+16, 1.9770609664e+16, 1.9770609664e+16, 1.9770609664e+16, 2.2164361129e+16, 2.2164361129e+16, 2.2164361129e+16, 2.4794911296e+16, 3.0840979456e+16, 3.4296447249e+16, 3.8068692544e+16, 3.8068692544e+16, 4.2180533641e+16, 4.2180533641e+16, 4.2180533641e+16, 4.2180533641e+16, 4.6656e+16, 4.6656e+16, 4.6656e+16, 5.1520374361e+16, 5.6800235584e+16, 5.6800235584e+16, 5.6800235584e+16, 5.6800235584e+16, 5.6800235584e+16, 5.6800235584e+16, 6.2523502209e+16, 6.2523502209e+16, 6.2523502209e+16, 6.8719476736e+16, 6.8719476736e+16, 7.5418890625e+16, 7.5418890625e+16, 8.2653950016e+16, 8.2653950016e+16, 8.2653950016e+16, 8.2653950016e+16, 9.0458382169e+16, 9.0458382169e+16, 9.0458382169e+16, 9.0458382169e+16, 9.0458382169e+16, 9.0458382169e+16, 9.0458382169e+16, 9.0458382169e+16, 9.0458382169e+16, 9.0458382169e+16, 9.0458382169e+16, 9.8867482624e+16, 9.8867482624e+16, 9.8867482624e+16, 9.8867482624e+16, 9.8867482624e+16, 1.07918163081e+17, 1.07918163081e+17, 1.07918163081e+17, 1.07918163081e+17, 1.17649e+17, 1.17649e+17, 1.17649e+17, 1.17649e+17, 1.17649e+17, 1.17649e+17, 1.17649e+17, 1.17649e+17, 1.17649e+17, 1.17649e+17, 1.17649e+17, 1.17649e+17, 1.17649e+17, 1.28100283921e+17, 1.28100283921e+17, 1.28100283921e+17, 1.28100283921e+17, 1.28100283921e+17, 1.28100283921e+17, 1.28100283921e+17, 1.28100283921e+17, 1.28100283921e+17, 1.28100283921e+17, 1.39314069504e+17, 1.39314069504e+17, 1.39314069504e+17, 1.39314069504e+17, 1.39314069504e+17, 1.39314069504e+17, 1.39314069504e+17, 1.39314069504e+17, 1.39314069504e+17, 1.39314069504e+17, 1.39314069504e+17, 1.39314069504e+17, 1.39314069504e+17, 1.39314069504e+17, ... ]\n",
      "[1.2311715481324093e+18, 1.37231006679e+18, 4.35817657216e+18, 5.06623120463e+18, 5.06623120463e+18, 5.87068342272e+18, 7.8125e+18, 1.028071702528e+19, 1.028071702528e+19, 1.028071702528e+19, 1.174711139837e+19, 1.174711139837e+19, 1.174711139837e+19, 1.338925209984e+19, 1.727094849536e+19, 1.954897493193e+19, 2.207984167552e+19, 2.207984167552e+19, 2.488651484819e+19, 2.488651484819e+19, 2.488651484819e+19, 2.488651484819e+19, 2.79936e+19, 2.79936e+19, 2.79936e+19, 3.142742836021e+19, 3.521614606208e+19, 3.521614606208e+19, 3.521614606208e+19, 3.521614606208e+19, 3.521614606208e+19, 3.521614606208e+19, 3.938980639167e+19, 3.938980639167e+19, 3.938980639167e+19, 4.398046511104e+19, 4.398046511104e+19, 4.902227890625e+19, 4.902227890625e+19, 5.455160701056e+19, 5.455160701056e+19, 5.455160701056e+19, 5.455160701056e+19, 6.060711605323e+19, 6.060711605323e+19, 6.060711605323e+19, 6.060711605323e+19, 6.060711605323e+19, 6.060711605323e+19, 6.060711605323e+19, 6.060711605323e+19, 6.060711605323e+19, 6.060711605323e+19, 6.060711605323e+19, 6.722988818432e+19, 6.722988818432e+19, 6.722988818432e+19, 6.722988818432e+19, 6.722988818432e+19, 7.446353252589e+19, 7.446353252589e+19, 7.446353252589e+19, 7.446353252589e+19, 8.23543e+19, 8.23543e+19, 8.23543e+19, 8.23543e+19, 8.23543e+19, 8.23543e+19, 8.23543e+19, 8.23543e+19, 8.23543e+19, 8.23543e+19, 8.23543e+19, 8.23543e+19, 8.23543e+19, 9.095120158391e+19, 9.095120158391e+19, 9.095120158391e+19, 9.095120158391e+19, 9.095120158391e+19, 9.095120158391e+19, 9.095120158391e+19, 9.095120158391e+19, 9.095120158391e+19, 9.095120158391e+19, 1.0030613004288e+20, 1.0030613004288e+20, 1.0030613004288e+20, 1.0030613004288e+20, 1.0030613004288e+20, 1.0030613004288e+20, 1.0030613004288e+20, 1.0030613004288e+20, 1.0030613004288e+20, 1.0030613004288e+20, 1.0030613004288e+20, 1.0030613004288e+20, 1.0030613004288e+20, 1.0030613004288e+20, ... ]\n",
      "[4.727698744828452e+20, 5.352009260481e+20, 2.0047612231936e+21, 2.3811286661761e+21, 2.3811286661761e+21, 2.8179280429056e+21, 3.90625e+21, 5.3459728531456e+21, 5.3459728531456e+21, 5.3459728531456e+21, 6.2259690411361e+21, 6.2259690411361e+21, 6.2259690411361e+21, 7.2301961339136e+21, 9.6717311574016e+21, 1.11429157112001e+22, 1.28063081718016e+22, 1.28063081718016e+22, 1.46830437604321e+22, 1.46830437604321e+22, 1.46830437604321e+22, 1.46830437604321e+22, 1.679616e+22, 1.679616e+22, 1.679616e+22, 1.91707312997281e+22, 2.18340105584896e+22, 2.18340105584896e+22, 2.18340105584896e+22, 2.18340105584896e+22, 2.18340105584896e+22, 2.18340105584896e+22, 2.48155780267521e+22, 2.48155780267521e+22, 2.48155780267521e+22, 2.81474976710656e+22, 2.81474976710656e+22, 3.18644812890625e+22, 3.18644812890625e+22, 3.60040606269696e+22, 3.60040606269696e+22, 3.60040606269696e+22, 3.60040606269696e+22, 4.06067677556641e+22, 4.06067677556641e+22, 4.06067677556641e+22, 4.06067677556641e+22, 4.06067677556641e+22, 4.06067677556641e+22, 4.06067677556641e+22, 4.06067677556641e+22, 4.06067677556641e+22, 4.06067677556641e+22, 4.06067677556641e+22, 4.57163239653376e+22, 4.57163239653376e+22, 4.57163239653376e+22, 4.57163239653376e+22, 4.57163239653376e+22, 5.13798374428641e+22, 5.13798374428641e+22, 5.13798374428641e+22, 5.13798374428641e+22, 5.764801e+22, 5.764801e+22, 5.764801e+22, 5.764801e+22, 5.764801e+22, 5.764801e+22, 5.764801e+22, 5.764801e+22, 5.764801e+22, 5.764801e+22, 5.764801e+22, 5.764801e+22, 5.764801e+22, 6.45753531245761e+22, 6.45753531245761e+22, 6.45753531245761e+22, 6.45753531245761e+22, 6.45753531245761e+22, 6.45753531245761e+22, 6.45753531245761e+22, 6.45753531245761e+22, 6.45753531245761e+22, 6.45753531245761e+22, 7.22204136308736e+22, 7.22204136308736e+22, 7.22204136308736e+22, 7.22204136308736e+22, 7.22204136308736e+22, 7.22204136308736e+22, 7.22204136308736e+22, 7.22204136308736e+22, 7.22204136308736e+22, 7.22204136308736e+22, 7.22204136308736e+22, 7.22204136308736e+22, 7.22204136308736e+22, 7.22204136308736e+22, ... ]\n",
      "[1.8154363180141255e+23, 2.08728361158759e+23, 9.22190162669056e+23, 1.119130473102767e+24, 1.119130473102767e+24, 1.352605460594688e+24, 1.953125e+24, 2.779905883635712e+24, 2.779905883635712e+24, 2.779905883635712e+24, 3.299763591802133e+24, 3.299763591802133e+24, 3.299763591802133e+24, 3.904305912313344e+24, 5.416169448144896e+24, 6.351461955384058e+24, 7.427658739644928e+24, 7.427658739644928e+24, 8.662995818654939e+24, 8.662995818654939e+24, 8.662995818654939e+24, 8.662995818654939e+24, 1.0077696e+25, 1.0077696e+25, 1.0077696e+25, 1.169414609283414e+25, 1.3537086546263553e+25, 1.3537086546263553e+25, 1.3537086546263553e+25, 1.3537086546263553e+25, 1.3537086546263553e+25, 1.3537086546263553e+25, 1.5633814156853822e+25, 1.5633814156853822e+25, 1.5633814156853822e+25, 1.8014398509481984e+25, 1.8014398509481984e+25, 2.0711912837890626e+25, 2.0711912837890626e+25, 2.3762680013799937e+25, 2.3762680013799937e+25, 2.3762680013799937e+25, 2.3762680013799937e+25, 2.7206534396294948e+25, 2.7206534396294948e+25, 2.7206534396294948e+25, 2.7206534396294948e+25, 2.7206534396294948e+25, 2.7206534396294948e+25, 2.7206534396294948e+25, 2.7206534396294948e+25, 2.7206534396294948e+25, 2.7206534396294948e+25, 2.7206534396294948e+25, 3.108710029642957e+25, 3.108710029642957e+25, 3.108710029642957e+25, 3.108710029642957e+25, 3.108710029642957e+25, 3.545208783557623e+25, 3.545208783557623e+25, 3.545208783557623e+25, 3.545208783557623e+25, 4.0353607e+25, 4.0353607e+25, 4.0353607e+25, 4.0353607e+25, 4.0353607e+25, 4.0353607e+25, 4.0353607e+25, 4.0353607e+25, 4.0353607e+25, 4.0353607e+25, 4.0353607e+25, 4.0353607e+25, 4.0353607e+25, 4.584850071844903e+25, 4.584850071844903e+25, 4.584850071844903e+25, 4.584850071844903e+25, 4.584850071844903e+25, 4.584850071844903e+25, 4.584850071844903e+25, 4.584850071844903e+25, 4.584850071844903e+25, 4.584850071844903e+25, 5.199869781422899e+25, 5.199869781422899e+25, 5.199869781422899e+25, 5.199869781422899e+25, 5.199869781422899e+25, 5.199869781422899e+25, 5.199869781422899e+25, 5.199869781422899e+25, 5.199869781422899e+25, 5.199869781422899e+25, 5.199869781422899e+25, 5.199869781422899e+25, 5.199869781422899e+25, 5.199869781422899e+25, ... ]\n",
      "[6.971275461174242e+25, 8.140406085191601e+25, 4.242074748277658e+26, 5.259913223583005e+26, 5.259913223583005e+26, 6.492506210854502e+26, 9.765625e+26, 1.4455510594905704e+27, 1.4455510594905704e+27, 1.4455510594905704e+27, 1.7488747036551306e+27, 1.7488747036551306e+27, 1.7488747036551306e+27, 2.1083251926492056e+27, 3.033054890961142e+27, 3.6203333145689126e+27, 4.308042068994058e+27, 4.308042068994058e+27, 5.111167533006414e+27, 5.111167533006414e+27, 5.111167533006414e+27, 5.111167533006414e+27, 6.0466176e+27, 6.0466176e+27, 6.0466176e+27, 7.133429116628826e+27, 8.392993658683402e+27, 8.392993658683402e+27, 8.392993658683402e+27, 8.392993658683402e+27, 8.392993658683402e+27, 8.392993658683402e+27, 9.849302918817908e+27, 9.849302918817908e+27, 9.849302918817908e+27, 1.152921504606847e+28, 1.152921504606847e+28, 1.3462743344628907e+28, 1.3462743344628907e+28, 1.5683368809107957e+28, 1.5683368809107957e+28, 1.5683368809107957e+28, 1.5683368809107957e+28, 1.8228378045517615e+28, 1.8228378045517615e+28, 1.8228378045517615e+28, 1.8228378045517615e+28, 1.8228378045517615e+28, 1.8228378045517615e+28, 1.8228378045517615e+28, 1.8228378045517615e+28, 1.8228378045517615e+28, 1.8228378045517615e+28, 1.8228378045517615e+28, 2.1139228201572105e+28, 2.1139228201572105e+28, 2.1139228201572105e+28, 2.1139228201572105e+28, 2.1139228201572105e+28, 2.44619406065476e+28, 2.44619406065476e+28, 2.44619406065476e+28, 2.44619406065476e+28, 2.82475249e+28, 2.82475249e+28, 2.82475249e+28, 2.82475249e+28, 2.82475249e+28, 2.82475249e+28, 2.82475249e+28, 2.82475249e+28, 2.82475249e+28, 2.82475249e+28, 2.82475249e+28, 2.82475249e+28, 2.82475249e+28, 3.2552435510098814e+28, 3.2552435510098814e+28, 3.2552435510098814e+28, 3.2552435510098814e+28, 3.2552435510098814e+28, 3.2552435510098814e+28, 3.2552435510098814e+28, 3.2552435510098814e+28, 3.2552435510098814e+28, 3.2552435510098814e+28, 3.7439062426244873e+28, 3.7439062426244873e+28, 3.7439062426244873e+28, 3.7439062426244873e+28, 3.7439062426244873e+28, 3.7439062426244873e+28, 3.7439062426244873e+28, 3.7439062426244873e+28, 3.7439062426244873e+28, 3.7439062426244873e+28, 3.7439062426244873e+28, 3.7439062426244873e+28, 3.7439062426244873e+28, 3.7439062426244873e+28, ... ]\n",
      "[2.676969777090909e+28, 3.1747583732247245e+28, 1.9513543842077225e+29, 2.4721592150840123e+29, 2.4721592150840123e+29, 3.116402981210161e+29, 4.8828125e+29, 7.516865509350966e+29, 7.516865509350966e+29, 7.516865509350966e+29, 9.269035929372192e+29, 9.269035929372192e+29, 9.269035929372192e+29, 1.138495604030571e+30, 1.6985107389382395e+30, 2.06358998930428e+30, 2.4986644000165537e+30, 2.4986644000165537e+30, 3.0155888444737843e+30, 3.0155888444737843e+30, 3.0155888444737843e+30, 3.0155888444737843e+30, 3.62797056e+30, 3.62797056e+30, 3.62797056e+30, 4.351391761143584e+30, 5.20365606838371e+30, 5.20365606838371e+30, 5.20365606838371e+30, 5.20365606838371e+30, 5.20365606838371e+30, 5.20365606838371e+30, 6.205060838855282e+30, 6.205060838855282e+30, 6.205060838855282e+30, 7.378697629483821e+30, 7.378697629483821e+30, 8.750783174008789e+30, 8.750783174008789e+30, 1.0351023414011253e+31, 1.0351023414011253e+31, 1.0351023414011253e+31, 1.0351023414011253e+31, 1.2213013290496802e+31, 1.2213013290496802e+31, 1.2213013290496802e+31, 1.2213013290496802e+31, 1.2213013290496802e+31, 1.2213013290496802e+31, 1.2213013290496802e+31, 1.2213013290496802e+31, 1.2213013290496802e+31, 1.2213013290496802e+31, 1.2213013290496802e+31, 1.4374675177069031e+31, 1.4374675177069031e+31, 1.4374675177069031e+31, 1.4374675177069031e+31, 1.4374675177069031e+31, 1.6878739018517842e+31, 1.6878739018517842e+31, 1.6878739018517842e+31, 1.6878739018517842e+31, 1.977326743e+31, 1.977326743e+31, 1.977326743e+31, 1.977326743e+31, 1.977326743e+31, 1.977326743e+31, 1.977326743e+31, 1.977326743e+31, 1.977326743e+31, 1.977326743e+31, 1.977326743e+31, 1.977326743e+31, 1.977326743e+31, 2.3112229212170156e+31, 2.3112229212170156e+31, 2.3112229212170156e+31, 2.3112229212170156e+31, 2.3112229212170156e+31, 2.3112229212170156e+31, 2.3112229212170156e+31, 2.3112229212170156e+31, 2.3112229212170156e+31, 2.3112229212170156e+31, 2.695612494689631e+31, 2.695612494689631e+31, 2.695612494689631e+31, 2.695612494689631e+31, 2.695612494689631e+31, 2.695612494689631e+31, 2.695612494689631e+31, 2.695612494689631e+31, 2.695612494689631e+31, 2.695612494689631e+31, 2.695612494689631e+31, 2.695612494689631e+31, 2.695612494689631e+31, 2.695612494689631e+31, ... ]\n",
      "[1.027956394402909e+31, 1.2381557655576424e+31, 8.976230167355523e+31, 1.1619148310894858e+32, 1.1619148310894858e+32, 1.4958734309808774e+32, 2.44140625e+32, 3.908770064862502e+32, 3.908770064862502e+32, 3.908770064862502e+32, 4.912589042567262e+32, 4.912589042567262e+32, 4.912589042567262e+32, 6.147876261765084e+32, 9.51166013805414e+32, 1.1762462939034397e+33, 1.449225352009601e+33, 1.449225352009601e+33, 1.7791974182395326e+33, 1.7791974182395326e+33, 1.7791974182395326e+33, 1.7791974182395326e+33, 2.176782336e+33, 2.176782336e+33, 2.176782336e+33, 2.654348974297586e+33, 3.2262667623978996e+33, 3.2262667623978996e+33, 3.2262667623978996e+33, 3.2262667623978996e+33, 3.2262667623978996e+33, 3.2262667623978996e+33, 3.909188328478828e+33, 3.909188328478828e+33, 3.909188328478828e+33, 4.722366482869645e+33, 4.722366482869645e+33, 5.688009063105713e+33, 5.688009063105713e+33, 6.831675453247426e+33, 6.831675453247426e+33, 6.831675453247426e+33, 6.831675453247426e+33, 8.182718904632857e+33, 8.182718904632857e+33, 8.182718904632857e+33, 8.182718904632857e+33, 8.182718904632857e+33, 8.182718904632857e+33, 8.182718904632857e+33, 8.182718904632857e+33, 8.182718904632857e+33, 8.182718904632857e+33, 8.182718904632857e+33, 9.774779120406942e+33, 9.774779120406942e+33, 9.774779120406942e+33, 9.774779120406942e+33, 9.774779120406942e+33, 1.164632992277731e+34, 1.164632992277731e+34, 1.164632992277731e+34, 1.164632992277731e+34, 1.3841287201e+34, 1.3841287201e+34, 1.3841287201e+34, 1.3841287201e+34, 1.3841287201e+34, 1.3841287201e+34, 1.3841287201e+34, 1.3841287201e+34, 1.3841287201e+34, 1.3841287201e+34, 1.3841287201e+34, 1.3841287201e+34, 1.3841287201e+34, 1.6409682740640812e+34, 1.6409682740640812e+34, 1.6409682740640812e+34, 1.6409682740640812e+34, 1.6409682740640812e+34, 1.6409682740640812e+34, 1.6409682740640812e+34, 1.6409682740640812e+34, 1.6409682740640812e+34, 1.6409682740640812e+34, 1.9408409961765342e+34, 1.9408409961765342e+34, 1.9408409961765342e+34, 1.9408409961765342e+34, 1.9408409961765342e+34, 1.9408409961765342e+34, 1.9408409961765342e+34, 1.9408409961765342e+34, 1.9408409961765342e+34, 1.9408409961765342e+34, 1.9408409961765342e+34, 1.9408409961765342e+34, 1.9408409961765342e+34, 1.9408409961765342e+34, ... ]\n",
      "[3.9473525545071707e+33, 4.8288074856748057e+33, 4.1290658769835408e+34, 5.460999706120584e+34, 5.460999706120584e+34, 7.180192468708211e+34, 1.220703125e+35, 2.032560433728501e+35, 2.032560433728501e+35, 2.032560433728501e+35, 2.6036721925606487e+35, 2.6036721925606487e+35, 2.6036721925606487e+35, 3.3198531813531454e+35, 5.326529677310319e+35, 6.704603875249606e+35, 8.405507041655687e+35, 8.405507041655687e+35, 1.0497264767613243e+36, 1.0497264767613243e+36, 1.0497264767613243e+36, 1.0497264767613243e+36, 1.3060694016e+36, 1.3060694016e+36, 1.3060694016e+36, 1.6191528743215276e+36, 2.000285392686698e+36, 2.000285392686698e+36, 2.000285392686698e+36, 2.000285392686698e+36, 2.000285392686698e+36, 2.000285392686698e+36, 2.4627886469416614e+36, 2.4627886469416614e+36, 2.4627886469416614e+36, 3.022314549036573e+36, 3.022314549036573e+36, 3.6972058910187136e+36, 3.6972058910187136e+36, 4.5089057991433015e+36, 4.5089057991433015e+36, 4.5089057991433015e+36, 4.5089057991433015e+36, 5.482421666104014e+36, 5.482421666104014e+36, 5.482421666104014e+36, 5.482421666104014e+36, 5.482421666104014e+36, 5.482421666104014e+36, 5.482421666104014e+36, 5.482421666104014e+36, 5.482421666104014e+36, 5.482421666104014e+36, 5.482421666104014e+36, 6.646849801876721e+36, 6.646849801876721e+36, 6.646849801876721e+36, 6.646849801876721e+36, 6.646849801876721e+36, 8.035967646716345e+36, 8.035967646716345e+36, 8.035967646716345e+36, 8.035967646716345e+36, 9.6889010407e+36, 9.6889010407e+36, 9.6889010407e+36, 9.6889010407e+36, 9.6889010407e+36, 9.6889010407e+36, 9.6889010407e+36, 9.6889010407e+36, 9.6889010407e+36, 9.6889010407e+36, 9.6889010407e+36, 9.6889010407e+36, 9.6889010407e+36, 1.1650874745854976e+37, 1.1650874745854976e+37, 1.1650874745854976e+37, 1.1650874745854976e+37, 1.1650874745854976e+37, 1.1650874745854976e+37, 1.1650874745854976e+37, 1.1650874745854976e+37, 1.1650874745854976e+37, 1.1650874745854976e+37, 1.3974055172471048e+37, 1.3974055172471048e+37, 1.3974055172471048e+37, 1.3974055172471048e+37, 1.3974055172471048e+37, 1.3974055172471048e+37, 1.3974055172471048e+37, 1.3974055172471048e+37, 1.3974055172471048e+37, 1.3974055172471048e+37, 1.3974055172471048e+37, 1.3974055172471048e+37, 1.3974055172471048e+37, 1.3974055172471048e+37, ... ]\n",
      "[1.5157833809307535e+36, 1.8832349194131742e+36, 1.8993703034124288e+37, 2.566669861876674e+37, 2.566669861876674e+37, 3.4464923849799413e+37, 6.103515625e+37, 1.0569314255388204e+38, 1.0569314255388204e+38, 1.0569314255388204e+38, 1.3799462620571438e+38, 1.3799462620571438e+38, 1.3799462620571438e+38, 1.7927207179306985e+38, 2.9828566192937785e+38, 3.821624208892276e+38, 4.8751940841602985e+38, 4.8751940841602985e+38, 6.193386212891813e+38, 6.193386212891813e+38, 6.193386212891813e+38, 6.193386212891813e+38, 7.8364164096e+38, 7.8364164096e+38, 7.8364164096e+38, 9.876832533361318e+38, 1.2401769434657527e+39, 1.2401769434657527e+39, 1.2401769434657527e+39, 1.2401769434657527e+39, 1.2401769434657527e+39, 1.2401769434657527e+39, 1.5515568475732466e+39, 1.5515568475732466e+39, 1.5515568475732466e+39, 1.9342813113834067e+39, 1.9342813113834067e+39, 2.4031838291621638e+39, 2.4031838291621638e+39, 2.975877827434579e+39, 2.975877827434579e+39, 2.975877827434579e+39, 2.975877827434579e+39, 3.6732225162896895e+39, 3.6732225162896895e+39, 3.6732225162896895e+39, 3.6732225162896895e+39, 3.6732225162896895e+39, 3.6732225162896895e+39, 3.6732225162896895e+39, 3.6732225162896895e+39, 3.6732225162896895e+39, 3.6732225162896895e+39, 3.6732225162896895e+39, 4.51985786527617e+39, 4.51985786527617e+39, 4.51985786527617e+39, 4.51985786527617e+39, 4.51985786527617e+39, 5.544817676234279e+39, 5.544817676234279e+39, 5.544817676234279e+39, 5.544817676234279e+39, 6.78223072849e+39, 6.78223072849e+39, 6.78223072849e+39, 6.78223072849e+39, 6.78223072849e+39, 6.78223072849e+39, 6.78223072849e+39, 6.78223072849e+39, 6.78223072849e+39, 6.78223072849e+39, 6.78223072849e+39, 6.78223072849e+39, 6.78223072849e+39, 8.272121069557033e+39, 8.272121069557033e+39, 8.272121069557033e+39, 8.272121069557033e+39, 8.272121069557033e+39, 8.272121069557033e+39, 8.272121069557033e+39, 8.272121069557033e+39, 8.272121069557033e+39, 8.272121069557033e+39, 1.0061319724179154e+40, 1.0061319724179154e+40, 1.0061319724179154e+40, 1.0061319724179154e+40, 1.0061319724179154e+40, 1.0061319724179154e+40, 1.0061319724179154e+40, 1.0061319724179154e+40, 1.0061319724179154e+40, 1.0061319724179154e+40, 1.0061319724179154e+40, 1.0061319724179154e+40, 1.0061319724179154e+40, 1.0061319724179154e+40, ... ]\n",
      "[5.8206081827740936e+38, 7.34461618571138e+38, 8.737103395697172e+39, 1.2063348350820368e+40, 1.2063348350820368e+40, 1.654316344790372e+40, 3.0517578125e+40, 5.496043412801867e+40, 5.496043412801867e+40, 5.496043412801867e+40, 7.313715188902862e+40, 7.313715188902862e+40, 7.313715188902862e+40, 9.680691876825771e+40, 1.6703997068045159e+41, 2.178325799068597e+41, 2.827612568812973e+41, 2.827612568812973e+41, 3.65409786560617e+41, 3.65409786560617e+41, 3.65409786560617e+41, 3.65409786560617e+41, 4.70184984576e+41, 4.70184984576e+41, 4.70184984576e+41, 6.024867845350404e+41, 7.689097049487667e+41, 7.689097049487667e+41, 7.689097049487667e+41, 7.689097049487667e+41, 7.689097049487667e+41, 7.689097049487667e+41, 9.774808139711454e+41, 9.774808139711454e+41, 9.774808139711454e+41, 1.2379400392853803e+42, 1.2379400392853803e+42, 1.5620694889554063e+42, 1.5620694889554063e+42, 1.964079366106822e+42, 1.964079366106822e+42, 1.964079366106822e+42, 1.964079366106822e+42, 2.461059085914092e+42, 2.461059085914092e+42, 2.461059085914092e+42, 2.461059085914092e+42, 2.461059085914092e+42, 2.461059085914092e+42, 2.461059085914092e+42, 2.461059085914092e+42, 2.461059085914092e+42, 2.461059085914092e+42, 2.461059085914092e+42, 3.073503348387796e+42, 3.073503348387796e+42, 3.073503348387796e+42, 3.073503348387796e+42, 3.073503348387796e+42, 3.825924196601652e+42, 3.825924196601652e+42, 3.825924196601652e+42, 3.825924196601652e+42, 4.747561509943e+42, 4.747561509943e+42, 4.747561509943e+42, 4.747561509943e+42, 4.747561509943e+42, 4.747561509943e+42, 4.747561509943e+42, 4.747561509943e+42, 4.747561509943e+42, 4.747561509943e+42, 4.747561509943e+42, 4.747561509943e+42, 4.747561509943e+42, 5.873205959385493e+42, 5.873205959385493e+42, 5.873205959385493e+42, 5.873205959385493e+42, 5.873205959385493e+42, 5.873205959385493e+42, 5.873205959385493e+42, 5.873205959385493e+42, 5.873205959385493e+42, 5.873205959385493e+42, 7.244150201408991e+42, 7.244150201408991e+42, 7.244150201408991e+42, 7.244150201408991e+42, 7.244150201408991e+42, 7.244150201408991e+42, 7.244150201408991e+42, 7.244150201408991e+42, 7.244150201408991e+42, 7.244150201408991e+42, 7.244150201408991e+42, 7.244150201408991e+42, 7.244150201408991e+42, 7.244150201408991e+42, ... ]\n"
     ]
    }
   ],
   "source": []
  },
  {
   "cell_type": "markdown",
   "metadata": {},
   "source": [
    "Next you should write a loop that does the following:\n",
    "* For degree in [1, 2, 3, 4, 5, 6, 7, 8, 9, 10, 11, 12, 13, 14, 15] (to get this in python type range(1, 15+1))\n",
    "    * Build an SFrame of polynomial data of train_data['sqft_living'] at the current degree\n",
    "    * hint: my_features = poly_data.column_names() gives you a list e.g. ['power_1', 'power_2', 'power_3'] which you might find useful for graphlab.linear_regression.create( features = my_features)\n",
    "    * Add train_data['price'] to the polynomial SFrame\n",
    "    * Learn a polynomial regression model to sqft vs price with that degree on TRAIN data\n",
    "    * Compute the RSS on VALIDATION data (here you will want to use .predict()) for that degree and you will need to make a polynmial SFrame using validation data.\n",
    "* Report which degree had the lowest RSS on validation data (remember python indexes from 0)\n",
    "\n",
    "(Note you can turn off the print out of linear_regression.create() with verbose = False)"
   ]
  },
  {
   "cell_type": "code",
   "execution_count": 93,
   "metadata": {
    "collapsed": false
   },
   "outputs": [
    {
     "name": "stdout",
     "output_type": "stream",
     "text": [
      "1 6.76709775198e+14\n",
      "2 6.07090530698e+14\n",
      "3 6.16714574533e+14\n",
      "4 6.09129230654e+14\n",
      "5 5.99177138584e+14\n",
      "6 5.8918247781e+14\n",
      "7 5.91717038418e+14\n",
      "8 6.01558237779e+14\n",
      "9 6.12563853988e+14\n",
      "10 6.21744288938e+14\n",
      "11 6.27012012708e+14\n",
      "12 6.27757914769e+14\n",
      "13 6.24738503271e+14\n",
      "14 6.19369705907e+14\n",
      "15 6.13089202416e+14\n"
     ]
    }
   ],
   "source": [
    "train_models = []\n",
    "for degree in range(1, 16):\n",
    "    poly_train_data = polynomial_sframe(train_data['sqft_living'], degree)\n",
    "    poly_features = poly_train_data.column_names()\n",
    "    poly_train_data['price'] = train_data['price']    \n",
    "    train_models.append(graphlab.linear_regression.create(poly_train_data, target = 'price', features = poly_features, validation_set = None, verbose=False))\n",
    "    \n",
    "    poly_val_data = polynomial_sframe(validation_data['sqft_living'], degree)\n",
    "    poly_features = poly_val_data.column_names()\n",
    "    poly_val_data['price'] = validation_data['price']   \n",
    "    \n",
    "    # (actual price - predicted price)^2\n",
    "    RSS = (validation_data['price'] - train_models[degree-1].predict(poly_val_data)).apply(lambda p: p**2).sum()\n",
    "    print str(degree) + \" \" + str(RSS)\n",
    "\n",
    "    \"\"\"\n",
    "    poly_train_data = graphlab.SFrame()\n",
    "    poly_train_data['sqft_living'] = train_data['sqft_living'].apply(lambda x: x**i)\n",
    "    poly_train_data['price'] = train_data['price']\n",
    "    train_models.append(graphlab.linear_regression.create(poly_train_data, target = 'price', features = ['sqft_living'], validation_set = None, verbose=False))\n",
    "    # (actual price - predicted price)^2\n",
    "    RSS = (validation_data['price'] - train_models[i-1].predict(validation_data)).apply(lambda p: p**2).sum()\n",
    "    print str(i) + \" \" + str(RSS)\n",
    "    \"\"\""
   ]
  },
  {
   "cell_type": "markdown",
   "metadata": {},
   "source": [
    "**Quiz Question: Which degree (1, 2, …, 15) had the lowest RSS on Validation data?**"
   ]
  },
  {
   "cell_type": "markdown",
   "metadata": {},
   "source": [
    "Now that you have chosen the degree of your polynomial using validation data, compute the RSS of this model on TEST data. Report the RSS on your quiz."
   ]
  },
  {
   "cell_type": "code",
   "execution_count": 1,
   "metadata": {
    "collapsed": false
   },
   "outputs": [
    {
     "data": {
      "text/plain": [
       "[]"
      ]
     },
     "execution_count": 1,
     "metadata": {},
     "output_type": "execute_result"
    }
   ],
   "source": [
    "a = [1,2]\n",
    "a[0:0]"
   ]
  },
  {
   "cell_type": "markdown",
   "metadata": {},
   "source": [
    "**Quiz Question: what is the RSS on TEST data for the model with the degree selected from Validation data?**"
   ]
  },
  {
   "cell_type": "code",
   "execution_count": 95,
   "metadata": {
    "collapsed": false
   },
   "outputs": [
    {
     "name": "stdout",
     "output_type": "stream",
     "text": [
      "1.25529337848e+14\n"
     ]
    }
   ],
   "source": [
    "poly_test_data = polynomial_sframe(test_data['sqft_living'], 15)\n",
    "poly_test_features = poly_test_data.column_names()\n",
    "poly_test_data['price'] = test_data['price']  \n",
    "test_RSS = (test_data['price'] - train_models[5].predict(poly_test_data)).apply(lambda p: p**2).sum()\n",
    "print test_RSS"
   ]
  }
 ],
 "metadata": {
  "kernelspec": {
   "display_name": "Python [dato-env]",
   "language": "python",
   "name": "Python [dato-env]"
  },
  "language_info": {
   "codemirror_mode": {
    "name": "ipython",
    "version": 2
   },
   "file_extension": ".py",
   "mimetype": "text/x-python",
   "name": "python",
   "nbconvert_exporter": "python",
   "pygments_lexer": "ipython2",
   "version": "2.7.11"
  }
 },
 "nbformat": 4,
 "nbformat_minor": 0
}
